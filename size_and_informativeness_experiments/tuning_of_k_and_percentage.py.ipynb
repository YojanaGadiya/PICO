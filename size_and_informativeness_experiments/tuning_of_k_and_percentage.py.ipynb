{
 "cells": [
  {
   "cell_type": "code",
   "execution_count": 1,
   "metadata": {},
   "outputs": [],
   "source": [
    "import sklearn\n",
    "from sklearn.cluster import KMeans\n",
    "import nltk\n",
    "import numpy as np\n",
    "import pickle\n",
    "from nltk.tokenize import word_tokenize\n",
    "from tqdm import tqdm"
   ]
  },
  {
   "cell_type": "code",
   "execution_count": 2,
   "metadata": {},
   "outputs": [],
   "source": [
    "import tensorflow as tf\n",
    "from training.model.config1 import Config\n",
    "from training.model.ner_model1 import NERModel\n",
    "from training.model.data_utils1 import CoNLLDataset, get_vocabs, UNK, NUM, \\\n",
    "    get_glove_vocab, write_vocab, load_vocab, get_char_vocab, \\\n",
    "    export_trimmed_glove_vectors, get_processing_word\n"
   ]
  },
  {
   "cell_type": "code",
   "execution_count": 3,
   "metadata": {},
   "outputs": [],
   "source": [
    "#import files created in preprocessing\n",
    "sent_embed_list = pickle.load(open (\"sent_embed_list.p\", \"rb\"))\n",
    "sent_id_dict = pickle.load(open (\"sent_id_dict.p\", \"rb\"))\n",
    "sent_list = pickle.load(open (\"sent_list.p\", \"rb\"))\n",
    "sent_label_conf_pos_from_folds = pickle.load(open (\"sent_label_conf_pos_from_folds.p\", \"rb\"))\n",
    "sent_with_num2orig_sent_dict = pickle.load(open (\"sent_with_num2orig_sent_dict.p\", \"rb\"))\n",
    "\n",
    "\n",
    "embedding_len = 200"
   ]
  },
  {
   "cell_type": "code",
   "execution_count": 8,
   "metadata": {},
   "outputs": [
    {
     "name": "stdout",
     "output_type": "stream",
     "text": [
      "(40822, 200)\n",
      "[[0. 0. 0. ... 0. 0. 0.]\n",
      " [0. 0. 0. ... 0. 0. 0.]\n",
      " [0. 0. 0. ... 0. 0. 0.]\n",
      " ...\n",
      " [0. 0. 0. ... 0. 0. 0.]\n",
      " [0. 0. 0. ... 0. 0. 0.]\n",
      " [0. 0. 0. ... 0. 0. 0.]]\n"
     ]
    }
   ],
   "source": [
    "#initiate the KMeans input matrix\n",
    "X = np.zeros((len(sent_id_dict),embedding_len), dtype=float)\n",
    "#print(len(sent_id_dict))\n",
    "print(X.shape)\n",
    "print(X)"
   ]
  },
  {
   "cell_type": "code",
   "execution_count": 9,
   "metadata": {},
   "outputs": [],
   "source": [
    "#populate the KMeans input matrix with sentence embeddings created in preprocessing\n",
    "for i in range(len(X)):\n",
    "    X[i] = X[i] + sent_embed_list[i]"
   ]
  },
  {
   "cell_type": "code",
   "execution_count": 10,
   "metadata": {},
   "outputs": [
    {
     "name": "stdout",
     "output_type": "stream",
     "text": [
      "(40822, 200)\n",
      "(40822, 200)\n"
     ]
    }
   ],
   "source": [
    "#check matrix dimentions \n",
    "print(X.shape)\n",
    "#X = X[0:1000,:] #used for prototyping to create a smaller dataset\n",
    "print(X.shape)"
   ]
  },
  {
   "cell_type": "code",
   "execution_count": 11,
   "metadata": {},
   "outputs": [
    {
     "name": "stderr",
     "output_type": "stream",
     "text": [
      "WARNING: randomly initializing word vectors\n"
     ]
    },
    {
     "name": "stdout",
     "output_type": "stream",
     "text": [
      "Config\n"
     ]
    },
    {
     "name": "stderr",
     "output_type": "stream",
     "text": [
      "/home/masha/anaconda3/envs/my_tensorflow/lib/python3.6/site-packages/tensorflow/python/ops/gradients_impl.py:112: UserWarning: Converting sparse IndexedSlices to a dense Tensor of unknown shape. This may consume a large amount of memory.\n",
      "  \"Converting sparse IndexedSlices to a dense Tensor of unknown shape. \"\n",
      "Initializing tf session\n"
     ]
    }
   ],
   "source": [
    "#initiate tf session\n",
    "tf.reset_default_graph()\n",
    "config = Config()\n",
    "print('Config')    \n",
    "model = NERModel(config)\n",
    "model.build()"
   ]
  },
  {
   "cell_type": "code",
   "execution_count": 13,
   "metadata": {
    "scrolled": false
   },
   "outputs": [
    {
     "name": "stdout",
     "output_type": "stream",
     "text": [
      "Processing_word\n",
      "Building vocab...\n",
      "- done. 25082 tokens\n",
      "Building vocab...\n",
      "- done. 400000 tokens\n",
      "Writing vocab...\n",
      "- done. 16056 tokens\n",
      "Writing vocab...\n",
      "- done. 4 tokens\n",
      "Writing vocab...\n",
      "- done. 84 tokens\n",
      "training\n",
      "hyperparam for the training below: % 10 k 10\n"
     ]
    },
    {
     "name": "stderr",
     "output_type": "stream",
     "text": [
      "Epoch 1 out of 15\n"
     ]
    },
    {
     "name": "stdout",
     "output_type": "stream",
     "text": [
      "204/204 [==============================] - 100s - train loss: 22.6613   \n"
     ]
    },
    {
     "name": "stderr",
     "output_type": "stream",
     "text": [
      "f1 0.49 - p 0.70 - r 0.44\n"
     ]
    },
    {
     "name": "stdout",
     "output_type": "stream",
     "text": [
      "7812.0 10454.0\n",
      "o: f1=0.37  p=0.75  r=0.25\n",
      "12690.0 18649.0\n",
      "p: f1=0.53  p=0.68  r=0.43\n",
      "167048.0 225803.0\n",
      "N: f1=0.83  p=0.74  r=0.96\n",
      "3434.0 5289.0\n",
      "i: f1=0.23  p=0.65  r=0.14\n",
      "Confusion matrix: \n",
      " rows: true labels (the order is the same as in /data/tags.txt) \n",
      " columns: predicted labels (the order is the same as in /data/tags.txt)\n",
      "[[  7812    679  22853    291]\n",
      " [    90  12690  16156    303]\n",
      " [  2434   3949 167048   1261]\n",
      " [   118   1331  19746   3434]]\n"
     ]
    },
    {
     "name": "stderr",
     "output_type": "stream",
     "text": [
      "- new best score!\n",
      "Epoch 2 out of 15\n"
     ]
    },
    {
     "name": "stdout",
     "output_type": "stream",
     "text": [
      "204/204 [==============================] - 108s - train loss: 12.7758   \n"
     ]
    },
    {
     "name": "stderr",
     "output_type": "stream",
     "text": [
      "f1 0.57 - p 0.68 - r 0.53\n"
     ]
    },
    {
     "name": "stdout",
     "output_type": "stream",
     "text": [
      "11156.0 15793.0\n",
      "o: f1=0.47  p=0.71  r=0.35\n",
      "18363.0 31677.0\n",
      "p: f1=0.60  p=0.58  r=0.63\n",
      "158349.0 203706.0\n",
      "N: f1=0.84  p=0.78  r=0.91\n",
      "5954.0 9019.0\n",
      "i: f1=0.35  p=0.66  r=0.24\n",
      "Confusion matrix: \n",
      " rows: true labels (the order is the same as in /data/tags.txt) \n",
      " columns: predicted labels (the order is the same as in /data/tags.txt)\n",
      "[[ 11156   1331  18946    202]\n",
      " [   167  18363  10437    272]\n",
      " [  4223   9529 158349   2591]\n",
      " [   247   2454  15974   5954]]\n"
     ]
    },
    {
     "name": "stderr",
     "output_type": "stream",
     "text": [
      "- new best score!\n",
      "Epoch 3 out of 15\n"
     ]
    },
    {
     "name": "stdout",
     "output_type": "stream",
     "text": [
      "204/204 [==============================] - 107s - train loss: 9.0478   \n"
     ]
    },
    {
     "name": "stderr",
     "output_type": "stream",
     "text": [
      "f1 0.59 - p 0.66 - r 0.57\n"
     ]
    },
    {
     "name": "stdout",
     "output_type": "stream",
     "text": [
      "11674.0 16549.0\n",
      "o: f1=0.48  p=0.71  r=0.37\n",
      "21281.0 41307.0\n",
      "p: f1=0.60  p=0.52  r=0.73\n",
      "151360.0 189185.0\n",
      "N: f1=0.83  p=0.80  r=0.87\n",
      "8203.0 13154.0\n",
      "i: f1=0.43  p=0.62  r=0.33\n",
      "Confusion matrix: \n",
      " rows: true labels (the order is the same as in /data/tags.txt) \n",
      " columns: predicted labels (the order is the same as in /data/tags.txt)\n",
      "[[ 11674   1604  17937    420]\n",
      " [   172  21281   7459    327]\n",
      " [  4392  14736 151360   4204]\n",
      " [   311   3686  12429   8203]]\n"
     ]
    },
    {
     "name": "stderr",
     "output_type": "stream",
     "text": [
      "- new best score!\n",
      "Epoch 4 out of 15\n"
     ]
    },
    {
     "name": "stdout",
     "output_type": "stream",
     "text": [
      "204/204 [==============================] - 103s - train loss: 6.9255   \n"
     ]
    },
    {
     "name": "stderr",
     "output_type": "stream",
     "text": [
      "f1 0.61 - p 0.66 - r 0.59\n"
     ]
    },
    {
     "name": "stdout",
     "output_type": "stream",
     "text": [
      "12558.0 18030.0\n",
      "o: f1=0.51  p=0.70  r=0.40\n",
      "21007.0 39422.0\n",
      "p: f1=0.61  p=0.53  r=0.72\n",
      "150446.0 186215.0\n",
      "N: f1=0.83  p=0.81  r=0.86\n",
      "9861.0 16528.0\n",
      "i: f1=0.48  p=0.60  r=0.40\n",
      "Confusion matrix: \n",
      " rows: true labels (the order is the same as in /data/tags.txt) \n",
      " columns: predicted labels (the order is the same as in /data/tags.txt)\n",
      "[[ 12558   1506  17055    516]\n",
      " [   190  21007   7589    453]\n",
      " [  4918  13630 150446   5698]\n",
      " [   364   3279  11125   9861]]\n"
     ]
    },
    {
     "name": "stderr",
     "output_type": "stream",
     "text": [
      "- new best score!\n",
      "Epoch 5 out of 15\n"
     ]
    },
    {
     "name": "stdout",
     "output_type": "stream",
     "text": [
      "204/204 [==============================] - 119s - train loss: 5.8038   \n"
     ]
    },
    {
     "name": "stderr",
     "output_type": "stream",
     "text": [
      "f1 0.63 - p 0.66 - r 0.61\n"
     ]
    },
    {
     "name": "stdout",
     "output_type": "stream",
     "text": [
      "15669.0 24434.0\n",
      "o: f1=0.56  p=0.64  r=0.50\n",
      "19422.0 32465.0\n",
      "p: f1=0.63  p=0.60  r=0.66\n",
      "151109.0 185756.0\n",
      "N: f1=0.84  p=0.81  r=0.87\n",
      "10490.0 17540.0\n",
      "i: f1=0.50  p=0.60  r=0.43\n",
      "Confusion matrix: \n",
      " rows: true labels (the order is the same as in /data/tags.txt) \n",
      " columns: predicted labels (the order is the same as in /data/tags.txt)\n",
      "[[ 15669   1109  14400    457]\n",
      " [   381  19422   8878    558]\n",
      " [  7841   9707 151109   6035]\n",
      " [   543   2227  11369  10490]]\n"
     ]
    },
    {
     "name": "stderr",
     "output_type": "stream",
     "text": [
      "- new best score!\n",
      "Epoch 6 out of 15\n"
     ]
    },
    {
     "name": "stdout",
     "output_type": "stream",
     "text": [
      "204/204 [==============================] - 122s - train loss: 5.0017   \n"
     ]
    },
    {
     "name": "stderr",
     "output_type": "stream",
     "text": [
      "f1 0.64 - p 0.66 - r 0.62\n"
     ]
    },
    {
     "name": "stdout",
     "output_type": "stream",
     "text": [
      "18943.0 35280.0\n",
      "o: f1=0.57  p=0.54  r=0.60\n",
      "17661.0 26062.0\n",
      "p: f1=0.64  p=0.68  r=0.60\n",
      "147256.0 180213.0\n",
      "N: f1=0.83  p=0.82  r=0.84\n",
      "11022.0 18640.0\n",
      "i: f1=0.51  p=0.59  r=0.45\n",
      "Confusion matrix: \n",
      " rows: true labels (the order is the same as in /data/tags.txt) \n",
      " columns: predicted labels (the order is the same as in /data/tags.txt)\n",
      "[[ 18943    898  11273    521]\n",
      " [   530  17661  10402    646]\n",
      " [ 14799   6186 147256   6451]\n",
      " [  1008   1317  11282  11022]]\n"
     ]
    },
    {
     "name": "stderr",
     "output_type": "stream",
     "text": [
      "- new best score!\n",
      "Epoch 7 out of 15\n"
     ]
    },
    {
     "name": "stdout",
     "output_type": "stream",
     "text": [
      "204/204 [==============================] - 139s - train loss: 4.6383   \n"
     ]
    },
    {
     "name": "stderr",
     "output_type": "stream",
     "text": [
      "f1 0.63 - p 0.69 - r 0.59\n",
      "Epoch 8 out of 15\n"
     ]
    },
    {
     "name": "stdout",
     "output_type": "stream",
     "text": [
      "16897.0 27163.0\n",
      "o: f1=0.57  p=0.62  r=0.53\n",
      "16125.0 22415.0\n",
      "p: f1=0.62  p=0.72  r=0.55\n",
      "156630.0 195670.0\n",
      "N: f1=0.85  p=0.80  r=0.90\n",
      "9521.0 14947.0\n",
      "i: f1=0.48  p=0.64  r=0.39\n",
      "Confusion matrix: \n",
      " rows: true labels (the order is the same as in /data/tags.txt) \n",
      " columns: predicted labels (the order is the same as in /data/tags.txt)\n",
      "[[ 16897    694  13732    312]\n",
      " [   515  16125  12058    541]\n",
      " [  8950   4539 156630   4573]\n",
      " [   801   1057  13250   9521]]\n",
      "204/204 [==============================] - 68s - train loss: 3.9317    \n"
     ]
    },
    {
     "name": "stderr",
     "output_type": "stream",
     "text": [
      "f1 0.61 - p 0.71 - r 0.56\n",
      "Epoch 9 out of 15\n"
     ]
    },
    {
     "name": "stdout",
     "output_type": "stream",
     "text": [
      "14756.0 22341.0\n",
      "o: f1=0.55  p=0.66  r=0.47\n",
      "15313.0 20800.0\n",
      "p: f1=0.61  p=0.74  r=0.52\n",
      "160975.0 204871.0\n",
      "N: f1=0.85  p=0.79  r=0.92\n",
      "8213.0 12183.0\n",
      "i: f1=0.45  p=0.67  r=0.33\n",
      "Confusion matrix: \n",
      " rows: true labels (the order is the same as in /data/tags.txt) \n",
      " columns: predicted labels (the order is the same as in /data/tags.txt)\n",
      "[[ 14756    608  15994    277]\n",
      " [   397  15313  13148    381]\n",
      " [  6565   3840 160975   3312]\n",
      " [   623   1039  14754   8213]]\n",
      "204/204 [==============================] - 68s - train loss: 3.3851    \n"
     ]
    },
    {
     "name": "stderr",
     "output_type": "stream",
     "text": [
      "f1 0.63 - p 0.70 - r 0.59\n",
      "- early stopping 3 epochs without improvement\n",
      "WARNING: randomly initializing word vectors\n"
     ]
    },
    {
     "name": "stdout",
     "output_type": "stream",
     "text": [
      "17228.0 27853.0\n",
      "o: f1=0.58  p=0.62  r=0.54\n",
      "16219.0 22570.0\n",
      "p: f1=0.63  p=0.72  r=0.55\n",
      "156834.0 196193.0\n",
      "N: f1=0.85  p=0.80  r=0.90\n",
      "8881.0 13579.0\n",
      "i: f1=0.46  p=0.65  r=0.36\n",
      "Confusion matrix: \n",
      " rows: true labels (the order is the same as in /data/tags.txt) \n",
      " columns: predicted labels (the order is the same as in /data/tags.txt)\n",
      "[[ 17228    702  13421    284]\n",
      " [   445  16219  12129    446]\n",
      " [  9335   4555 156834   3968]\n",
      " [   845   1094  13809   8881]]\n",
      "Config\n"
     ]
    },
    {
     "name": "stderr",
     "output_type": "stream",
     "text": [
      "/home/masha/anaconda3/envs/my_tensorflow/lib/python3.6/site-packages/tensorflow/python/ops/gradients_impl.py:112: UserWarning: Converting sparse IndexedSlices to a dense Tensor of unknown shape. This may consume a large amount of memory.\n",
      "  \"Converting sparse IndexedSlices to a dense Tensor of unknown shape. \"\n",
      "Initializing tf session\n"
     ]
    },
    {
     "name": "stdout",
     "output_type": "stream",
     "text": [
      "Processing_word\n",
      "Building vocab...\n",
      "- done. 32661 tokens\n",
      "Building vocab...\n",
      "- done. 400000 tokens\n",
      "Writing vocab...\n",
      "- done. 19481 tokens\n",
      "Writing vocab...\n",
      "- done. 4 tokens\n",
      "Writing vocab...\n",
      "- done. 86 tokens\n",
      "training\n",
      "hyperparam for the training below: % 30 k 10\n"
     ]
    },
    {
     "name": "stderr",
     "output_type": "stream",
     "text": [
      "Epoch 1 out of 15\n"
     ]
    },
    {
     "name": "stdout",
     "output_type": "stream",
     "text": [
      "612/612 [==============================] - 174s - train loss: 14.4909   \n"
     ]
    },
    {
     "name": "stderr",
     "output_type": "stream",
     "text": [
      "f1 0.62 - p 0.71 - r 0.58\n"
     ]
    },
    {
     "name": "stdout",
     "output_type": "stream",
     "text": [
      "11960.0 20876.0\n",
      "i: f1=0.53  p=0.57  r=0.49\n",
      "159135.0 201258.0\n",
      "N: f1=0.85  p=0.79  r=0.91\n",
      "10602.0 13886.0\n",
      "o: f1=0.47  p=0.76  r=0.34\n",
      "17138.0 24175.0\n",
      "p: f1=0.64  p=0.71  r=0.59\n",
      "Confusion matrix: \n",
      " rows: true labels (the order is the same as in /data/tags.txt) \n",
      " columns: predicted labels (the order is the same as in /data/tags.txt)\n",
      "[[ 11960  11681    187    801]\n",
      " [  7208 159135   3034   5315]\n",
      " [   634  19478  10602    921]\n",
      " [  1074  10964     63  17138]]\n"
     ]
    },
    {
     "name": "stderr",
     "output_type": "stream",
     "text": [
      "- new best score!\n",
      "Epoch 2 out of 15\n"
     ]
    },
    {
     "name": "stdout",
     "output_type": "stream",
     "text": [
      "612/612 [==============================] - 173s - train loss: 6.7587   \n"
     ]
    },
    {
     "name": "stderr",
     "output_type": "stream",
     "text": [
      "f1 0.65 - p 0.71 - r 0.61\n"
     ]
    },
    {
     "name": "stdout",
     "output_type": "stream",
     "text": [
      "12548.0 21517.0\n",
      "i: f1=0.54  p=0.58  r=0.51\n",
      "157191.0 195296.0\n",
      "N: f1=0.85  p=0.80  r=0.90\n",
      "13326.0 18052.0\n",
      "o: f1=0.54  p=0.74  r=0.42\n",
      "17777.0 25330.0\n",
      "p: f1=0.65  p=0.70  r=0.61\n",
      "Confusion matrix: \n",
      " rows: true labels (the order is the same as in /data/tags.txt) \n",
      " columns: predicted labels (the order is the same as in /data/tags.txt)\n",
      "[[ 12548  10967    276    838]\n",
      " [  7373 157191   4320   5808]\n",
      " [   533  16869  13326    907]\n",
      " [  1063  10269    130  17777]]\n"
     ]
    },
    {
     "name": "stderr",
     "output_type": "stream",
     "text": [
      "- new best score!\n",
      "Epoch 3 out of 15\n"
     ]
    },
    {
     "name": "stdout",
     "output_type": "stream",
     "text": [
      "612/612 [==============================] - 173s - train loss: 4.4534   \n"
     ]
    },
    {
     "name": "stderr",
     "output_type": "stream",
     "text": [
      "f1 0.65 - p 0.70 - r 0.63\n"
     ]
    },
    {
     "name": "stdout",
     "output_type": "stream",
     "text": [
      "11224.0 17926.0\n",
      "i: f1=0.53  p=0.63  r=0.46\n",
      "154692.0 189533.0\n",
      "N: f1=0.85  p=0.82  r=0.89\n",
      "15605.0 22221.0\n",
      "o: f1=0.58  p=0.70  r=0.49\n",
      "19656.0 30515.0\n",
      "p: f1=0.66  p=0.64  r=0.67\n",
      "Confusion matrix: \n",
      " rows: true labels (the order is the same as in /data/tags.txt) \n",
      " columns: predicted labels (the order is the same as in /data/tags.txt)\n",
      "[[ 11224  11505    415   1485]\n",
      " [  5657 154692   6027   8316]\n",
      " [   421  14551  15605   1058]\n",
      " [   624   8785    174  19656]]\n"
     ]
    },
    {
     "name": "stderr",
     "output_type": "stream",
     "text": [
      "- new best score!\n",
      "Epoch 4 out of 15\n"
     ]
    },
    {
     "name": "stdout",
     "output_type": "stream",
     "text": [
      "612/612 [==============================] - 178s - train loss: 3.2826   \n"
     ]
    },
    {
     "name": "stderr",
     "output_type": "stream",
     "text": [
      "f1 0.66 - p 0.68 - r 0.65\n"
     ]
    },
    {
     "name": "stdout",
     "output_type": "stream",
     "text": [
      "13089.0 22527.0\n",
      "i: f1=0.56  p=0.58  r=0.53\n",
      "150429.0 181408.0\n",
      "N: f1=0.84  p=0.83  r=0.86\n",
      "16189.0 23467.0\n",
      "o: f1=0.59  p=0.69  r=0.51\n",
      "20341.0 32793.0\n",
      "p: f1=0.66  p=0.62  r=0.70\n",
      "Confusion matrix: \n",
      " rows: true labels (the order is the same as in /data/tags.txt) \n",
      " columns: predicted labels (the order is the same as in /data/tags.txt)\n",
      "[[ 13089   9482    446   1612]\n",
      " [  7931 150429   6641   9691]\n",
      " [   614  13683  16189   1149]\n",
      " [   893   7814    191  20341]]\n"
     ]
    },
    {
     "name": "stderr",
     "output_type": "stream",
     "text": [
      "- new best score!\n",
      "Epoch 5 out of 15\n"
     ]
    },
    {
     "name": "stdout",
     "output_type": "stream",
     "text": [
      "612/612 [==============================] - 344s - train loss: 2.6082   \n"
     ]
    },
    {
     "name": "stderr",
     "output_type": "stream",
     "text": [
      "f1 0.64 - p 0.68 - r 0.63\n",
      "Epoch 6 out of 15\n"
     ]
    },
    {
     "name": "stdout",
     "output_type": "stream",
     "text": [
      "11780.0 19138.0\n",
      "i: f1=0.54  p=0.62  r=0.48\n",
      "152152.0 186021.0\n",
      "N: f1=0.84  p=0.82  r=0.87\n",
      "13829.0 19509.0\n",
      "o: f1=0.54  p=0.71  r=0.44\n",
      "20988.0 35527.0\n",
      "p: f1=0.65  p=0.59  r=0.72\n",
      "Confusion matrix: \n",
      " rows: true labels (the order is the same as in /data/tags.txt) \n",
      " columns: predicted labels (the order is the same as in /data/tags.txt)\n",
      "[[ 11780  10474    369   2006]\n",
      " [  6222 152152   5161  11157]\n",
      " [   499  15931  13829   1376]\n",
      " [   637   7464    150  20988]]\n",
      "612/612 [==============================] - 322s - train loss: 2.1838   \n"
     ]
    },
    {
     "name": "stderr",
     "output_type": "stream",
     "text": [
      "f1 0.63 - p 0.71 - r 0.59\n",
      "Epoch 7 out of 15\n"
     ]
    },
    {
     "name": "stdout",
     "output_type": "stream",
     "text": [
      "10982.0 17457.0\n",
      "i: f1=0.52  p=0.63  r=0.45\n",
      "158330.0 198332.0\n",
      "N: f1=0.85  p=0.80  r=0.91\n",
      "11056.0 14785.0\n",
      "o: f1=0.48  p=0.75  r=0.35\n",
      "19635.0 29621.0\n",
      "p: f1=0.67  p=0.66  r=0.67\n",
      "Confusion matrix: \n",
      " rows: true labels (the order is the same as in /data/tags.txt) \n",
      " columns: predicted labels (the order is the same as in /data/tags.txt)\n",
      "[[ 10982  11965    200   1482]\n",
      " [  5460 158330   3410   7492]\n",
      " [   490  19077  11056   1012]\n",
      " [   525   8960    119  19635]]\n",
      "612/612 [==============================] - 325s - train loss: 1.8324   \n"
     ]
    },
    {
     "name": "stderr",
     "output_type": "stream",
     "text": [
      "f1 0.65 - p 0.70 - r 0.62\n",
      "- early stopping 3 epochs without improvement\n",
      "WARNING: randomly initializing word vectors\n"
     ]
    },
    {
     "name": "stdout",
     "output_type": "stream",
     "text": [
      "11208.0 18099.0\n",
      "i: f1=0.52  p=0.62  r=0.46\n",
      "156200.0 192465.0\n",
      "N: f1=0.85  p=0.81  r=0.89\n",
      "14798.0 20801.0\n",
      "o: f1=0.56  p=0.71  r=0.47\n",
      "19322.0 28830.0\n",
      "p: f1=0.67  p=0.67  r=0.66\n",
      "Confusion matrix: \n",
      " rows: true labels (the order is the same as in /data/tags.txt) \n",
      " columns: predicted labels (the order is the same as in /data/tags.txt)\n",
      "[[ 11208  11764    353   1304]\n",
      " [  5806 156200   5484   7202]\n",
      " [   414  15421  14798   1002]\n",
      " [   671   9080    166  19322]]\n",
      "Config\n"
     ]
    },
    {
     "name": "stderr",
     "output_type": "stream",
     "text": [
      "/home/masha/anaconda3/envs/my_tensorflow/lib/python3.6/site-packages/tensorflow/python/ops/gradients_impl.py:112: UserWarning: Converting sparse IndexedSlices to a dense Tensor of unknown shape. This may consume a large amount of memory.\n",
      "  \"Converting sparse IndexedSlices to a dense Tensor of unknown shape. \"\n",
      "Initializing tf session\n"
     ]
    },
    {
     "name": "stdout",
     "output_type": "stream",
     "text": [
      "Processing_word\n",
      "Building vocab...\n",
      "- done. 37221 tokens\n",
      "Building vocab...\n",
      "- done. 400000 tokens\n",
      "Writing vocab...\n",
      "- done. 21306 tokens\n",
      "Writing vocab...\n",
      "- done. 4 tokens\n",
      "Writing vocab...\n",
      "- done. 87 tokens\n",
      "training\n",
      "hyperparam for the training below: % 50 k 10\n"
     ]
    },
    {
     "name": "stderr",
     "output_type": "stream",
     "text": [
      "Epoch 1 out of 15\n"
     ]
    },
    {
     "name": "stdout",
     "output_type": "stream",
     "text": [
      "1020/1020 [==============================] - 450s - train loss: 14.0480   \n"
     ]
    },
    {
     "name": "stderr",
     "output_type": "stream",
     "text": [
      "f1 0.64 - p 0.72 - r 0.60\n"
     ]
    },
    {
     "name": "stdout",
     "output_type": "stream",
     "text": [
      "11228.0 17777.0\n",
      "i: f1=0.53  p=0.63  r=0.46\n",
      "159401.0 198954.0\n",
      "N: f1=0.85  p=0.80  r=0.91\n",
      "12031.0 15722.0\n",
      "o: f1=0.51  p=0.77  r=0.38\n",
      "18830.0 27742.0\n",
      "p: f1=0.66  p=0.68  r=0.64\n",
      "Confusion matrix: \n",
      " rows: true labels (the order is the same as in /data/tags.txt) \n",
      " columns: predicted labels (the order is the same as in /data/tags.txt)\n",
      "[[ 11228  12038    197   1166]\n",
      " [  5281 159401   3414   6596]\n",
      " [   538  17916  12031   1150]\n",
      " [   730   9599     80  18830]]\n"
     ]
    },
    {
     "name": "stderr",
     "output_type": "stream",
     "text": [
      "- new best score!\n",
      "Epoch 2 out of 15\n"
     ]
    },
    {
     "name": "stdout",
     "output_type": "stream",
     "text": [
      "1020/1020 [==============================] - 488s - train loss: 5.6124   \n"
     ]
    },
    {
     "name": "stderr",
     "output_type": "stream",
     "text": [
      "f1 0.66 - p 0.73 - r 0.62\n"
     ]
    },
    {
     "name": "stdout",
     "output_type": "stream",
     "text": [
      "12276.0 19489.0\n",
      "i: f1=0.56  p=0.63  r=0.50\n",
      "158707.0 195443.0\n",
      "N: f1=0.86  p=0.81  r=0.91\n",
      "13393.0 17556.0\n",
      "o: f1=0.54  p=0.76  r=0.42\n",
      "19496.0 27707.0\n",
      "p: f1=0.68  p=0.70  r=0.67\n",
      "Confusion matrix: \n",
      " rows: true labels (the order is the same as in /data/tags.txt) \n",
      " columns: predicted labels (the order is the same as in /data/tags.txt)\n",
      "[[ 12276  10993    211   1149]\n",
      " [  5974 158707   3825   6186]\n",
      " [   513  16853  13393    876]\n",
      " [   726   8890    127  19496]]\n"
     ]
    },
    {
     "name": "stderr",
     "output_type": "stream",
     "text": [
      "- new best score!\n",
      "Epoch 3 out of 15\n"
     ]
    },
    {
     "name": "stdout",
     "output_type": "stream",
     "text": [
      "1020/1020 [==============================] - 484s - train loss: 3.4403   \n"
     ]
    },
    {
     "name": "stderr",
     "output_type": "stream",
     "text": [
      "f1 0.67 - p 0.71 - r 0.64\n"
     ]
    },
    {
     "name": "stdout",
     "output_type": "stream",
     "text": [
      "12615.0 20367.0\n",
      "i: f1=0.56  p=0.62  r=0.51\n",
      "155597.0 189703.0\n",
      "N: f1=0.85  p=0.82  r=0.89\n",
      "14877.0 20522.0\n",
      "o: f1=0.57  p=0.72  r=0.47\n",
      "20089.0 29603.0\n",
      "p: f1=0.68  p=0.68  r=0.69\n",
      "Confusion matrix: \n",
      " rows: true labels (the order is the same as in /data/tags.txt) \n",
      " columns: predicted labels (the order is the same as in /data/tags.txt)\n",
      "[[ 12615  10564    336   1114]\n",
      " [  6485 155597   5153   7457]\n",
      " [   503  15312  14877    943]\n",
      " [   764   8230    156  20089]]\n"
     ]
    },
    {
     "name": "stderr",
     "output_type": "stream",
     "text": [
      "- new best score!\n",
      "Epoch 4 out of 15\n"
     ]
    },
    {
     "name": "stdout",
     "output_type": "stream",
     "text": [
      "1020/1020 [==============================] - 526s - train loss: 2.4719   \n"
     ]
    },
    {
     "name": "stderr",
     "output_type": "stream",
     "text": [
      "f1 0.66 - p 0.71 - r 0.64\n",
      "Epoch 5 out of 15\n"
     ]
    },
    {
     "name": "stdout",
     "output_type": "stream",
     "text": [
      "12756.0 20847.0\n",
      "i: f1=0.56  p=0.61  r=0.52\n",
      "155451.0 189644.0\n",
      "N: f1=0.85  p=0.82  r=0.89\n",
      "14538.0 19917.0\n",
      "o: f1=0.56  p=0.73  r=0.46\n",
      "20090.0 29787.0\n",
      "p: f1=0.68  p=0.67  r=0.69\n",
      "Confusion matrix: \n",
      " rows: true labels (the order is the same as in /data/tags.txt) \n",
      " columns: predicted labels (the order is the same as in /data/tags.txt)\n",
      "[[ 12756  10335    348   1190]\n",
      " [  6815 155451   4908   7518]\n",
      " [   507  15601  14538    989]\n",
      " [   769   8257    123  20090]]\n",
      "1020/1020 [==============================] - 486s - train loss: 1.8798   \n"
     ]
    },
    {
     "name": "stderr",
     "output_type": "stream",
     "text": [
      "f1 0.67 - p 0.72 - r 0.64\n"
     ]
    },
    {
     "name": "stdout",
     "output_type": "stream",
     "text": [
      "12554.0 20280.0\n",
      "i: f1=0.56  p=0.62  r=0.51\n",
      "157101.0 192229.0\n",
      "N: f1=0.86  p=0.82  r=0.90\n",
      "15205.0 21358.0\n",
      "o: f1=0.57  p=0.71  r=0.48\n",
      "19031.0 26328.0\n",
      "p: f1=0.68  p=0.72  r=0.65\n",
      "Confusion matrix: \n",
      " rows: true labels (the order is the same as in /data/tags.txt) \n",
      " columns: predicted labels (the order is the same as in /data/tags.txt)\n",
      "[[ 12554  10700    383    992]\n",
      " [  6427 157101   5604   5560]\n",
      " [   464  15221  15205    745]\n",
      " [   835   9207    166  19031]]\n"
     ]
    },
    {
     "name": "stderr",
     "output_type": "stream",
     "text": [
      "- new best score!\n",
      "Epoch 6 out of 15\n"
     ]
    },
    {
     "name": "stdout",
     "output_type": "stream",
     "text": [
      "1020/1020 [==============================] - 481s - train loss: 1.5000   \n"
     ]
    },
    {
     "name": "stderr",
     "output_type": "stream",
     "text": [
      "f1 0.67 - p 0.72 - r 0.63\n",
      "Epoch 7 out of 15\n"
     ]
    },
    {
     "name": "stdout",
     "output_type": "stream",
     "text": [
      "10808.0 16375.0\n",
      "i: f1=0.53  p=0.66  r=0.44\n",
      "156886.0 191850.0\n",
      "N: f1=0.86  p=0.82  r=0.90\n",
      "16721.0 24151.0\n",
      "o: f1=0.60  p=0.69  r=0.53\n",
      "19513.0 27819.0\n",
      "p: f1=0.68  p=0.70  r=0.67\n",
      "Confusion matrix: \n",
      " rows: true labels (the order is the same as in /data/tags.txt) \n",
      " columns: predicted labels (the order is the same as in /data/tags.txt)\n",
      "[[ 10808  12196    449   1176]\n",
      " [  4650 156886   6776   6380]\n",
      " [   328  13836  16721    750]\n",
      " [   589   8932    205  19513]]\n",
      "1020/1020 [==============================] - 365s - train loss: 1.2656   \n"
     ]
    },
    {
     "name": "stderr",
     "output_type": "stream",
     "text": [
      "f1 0.66 - p 0.71 - r 0.62\n",
      "Epoch 8 out of 15\n"
     ]
    },
    {
     "name": "stdout",
     "output_type": "stream",
     "text": [
      "11401.0 18149.0\n",
      "i: f1=0.53  p=0.63  r=0.46\n",
      "157283.0 193333.0\n",
      "N: f1=0.85  p=0.81  r=0.90\n",
      "14881.0 20558.0\n",
      "o: f1=0.57  p=0.72  r=0.47\n",
      "19466.0 28155.0\n",
      "p: f1=0.68  p=0.69  r=0.67\n",
      "Confusion matrix: \n",
      " rows: true labels (the order is the same as in /data/tags.txt) \n",
      " columns: predicted labels (the order is the same as in /data/tags.txt)\n",
      "[[ 11401  11723    371   1134]\n",
      " [  5622 157283   5165   6622]\n",
      " [   424  15397  14881    933]\n",
      " [   702   8930    141  19466]]\n",
      "1020/1020 [==============================] - 483s - train loss: 1.0560   \n"
     ]
    },
    {
     "name": "stderr",
     "output_type": "stream",
     "text": [
      "f1 0.65 - p 0.72 - r 0.61\n",
      "- early stopping 3 epochs without improvement\n",
      "WARNING: randomly initializing word vectors\n"
     ]
    },
    {
     "name": "stdout",
     "output_type": "stream",
     "text": [
      "11058.0 17225.0\n",
      "i: f1=0.53  p=0.64  r=0.45\n",
      "158283.0 195968.0\n",
      "N: f1=0.85  p=0.81  r=0.91\n",
      "13820.0 18892.0\n",
      "o: f1=0.55  p=0.73  r=0.44\n",
      "19412.0 28110.0\n",
      "p: f1=0.68  p=0.69  r=0.66\n",
      "Confusion matrix: \n",
      " rows: true labels (the order is the same as in /data/tags.txt) \n",
      " columns: predicted labels (the order is the same as in /data/tags.txt)\n",
      "[[ 11058  12031    353   1187]\n",
      " [  5184 158283   4555   6670]\n",
      " [   381  16593  13820    841]\n",
      " [   602   9061    164  19412]]\n",
      "Config\n"
     ]
    },
    {
     "name": "stderr",
     "output_type": "stream",
     "text": [
      "/home/masha/anaconda3/envs/my_tensorflow/lib/python3.6/site-packages/tensorflow/python/ops/gradients_impl.py:112: UserWarning: Converting sparse IndexedSlices to a dense Tensor of unknown shape. This may consume a large amount of memory.\n",
      "  \"Converting sparse IndexedSlices to a dense Tensor of unknown shape. \"\n",
      "Initializing tf session\n"
     ]
    },
    {
     "name": "stdout",
     "output_type": "stream",
     "text": [
      "Processing_word\n",
      "Building vocab...\n",
      "- done. 24116 tokens\n",
      "Building vocab...\n",
      "- done. 400000 tokens\n",
      "Writing vocab...\n",
      "- done. 15726 tokens\n",
      "Writing vocab...\n",
      "- done. 4 tokens\n",
      "Writing vocab...\n",
      "- done. 83 tokens\n",
      "training\n",
      "hyperparam for the training below: % 10 k 100\n"
     ]
    },
    {
     "name": "stderr",
     "output_type": "stream",
     "text": [
      "Epoch 1 out of 15\n"
     ]
    },
    {
     "name": "stdout",
     "output_type": "stream",
     "text": [
      "204/204 [==============================] - 128s - train loss: 27.1854   \n"
     ]
    },
    {
     "name": "stderr",
     "output_type": "stream",
     "text": [
      "f1 0.55 - p 0.60 - r 0.51\n"
     ]
    },
    {
     "name": "stdout",
     "output_type": "stream",
     "text": [
      "6444.0 15051.0\n",
      "i: f1=0.32  p=0.43  r=0.26\n",
      "155232.0 199816.0\n",
      "N: f1=0.83  p=0.78  r=0.89\n",
      "12498.0 21151.0\n",
      "o: f1=0.47  p=0.59  r=0.40\n",
      "14781.0 24177.0\n",
      "p: f1=0.55  p=0.61  r=0.51\n",
      "Confusion matrix: \n",
      " rows: true labels (the order is the same as in /data/tags.txt) \n",
      " columns: predicted labels (the order is the same as in /data/tags.txt)\n",
      "[[  6444  15174   1228   1783]\n",
      " [  5816 155232   6952   6692]\n",
      " [   972  17244  12498    921]\n",
      " [  1819  12166    473  14781]]\n"
     ]
    },
    {
     "name": "stderr",
     "output_type": "stream",
     "text": [
      "- new best score!\n",
      "Epoch 2 out of 15\n"
     ]
    },
    {
     "name": "stdout",
     "output_type": "stream",
     "text": [
      "204/204 [==============================] - 123s - train loss: 13.8461   \n"
     ]
    },
    {
     "name": "stderr",
     "output_type": "stream",
     "text": [
      "f1 0.61 - p 0.65 - r 0.59\n"
     ]
    },
    {
     "name": "stdout",
     "output_type": "stream",
     "text": [
      "10870.0 21272.0\n",
      "i: f1=0.47  p=0.51  r=0.44\n",
      "152561.0 190068.0\n",
      "N: f1=0.84  p=0.80  r=0.87\n",
      "13615.0 20839.0\n",
      "o: f1=0.52  p=0.65  r=0.43\n",
      "17738.0 28016.0\n",
      "p: f1=0.62  p=0.63  r=0.61\n",
      "Confusion matrix: \n",
      " rows: true labels (the order is the same as in /data/tags.txt) \n",
      " columns: predicted labels (the order is the same as in /data/tags.txt)\n",
      "[[ 10870  11971    479   1309]\n",
      " [  8023 152561   6443   7665]\n",
      " [   831  15885  13615   1304]\n",
      " [  1548   9651    302  17738]]\n"
     ]
    },
    {
     "name": "stderr",
     "output_type": "stream",
     "text": [
      "- new best score!\n",
      "Epoch 3 out of 15\n"
     ]
    },
    {
     "name": "stdout",
     "output_type": "stream",
     "text": [
      "204/204 [==============================] - 117s - train loss: 8.8338   \n"
     ]
    },
    {
     "name": "stderr",
     "output_type": "stream",
     "text": [
      "f1 0.62 - p 0.67 - r 0.59\n"
     ]
    },
    {
     "name": "stdout",
     "output_type": "stream",
     "text": [
      "10142.0 17930.0\n",
      "i: f1=0.48  p=0.57  r=0.41\n",
      "155233.0 194034.0\n",
      "N: f1=0.84  p=0.80  r=0.89\n",
      "13477.0 20215.0\n",
      "o: f1=0.52  p=0.67  r=0.43\n",
      "18252.0 28016.0\n",
      "p: f1=0.64  p=0.65  r=0.62\n",
      "Confusion matrix: \n",
      " rows: true labels (the order is the same as in /data/tags.txt) \n",
      " columns: predicted labels (the order is the same as in /data/tags.txt)\n",
      "[[ 10142  12763    469   1255]\n",
      " [  6190 155233   5964   7305]\n",
      " [   568  16386  13477   1204]\n",
      " [  1030   9652    305  18252]]\n"
     ]
    },
    {
     "name": "stderr",
     "output_type": "stream",
     "text": [
      "- new best score!\n",
      "Epoch 4 out of 15\n"
     ]
    },
    {
     "name": "stdout",
     "output_type": "stream",
     "text": [
      "204/204 [==============================] - 116s - train loss: 6.7750   \n"
     ]
    },
    {
     "name": "stderr",
     "output_type": "stream",
     "text": [
      "f1 0.61 - p 0.67 - r 0.58\n",
      "Epoch 5 out of 15\n"
     ]
    },
    {
     "name": "stdout",
     "output_type": "stream",
     "text": [
      "10595.0 19294.0\n",
      "i: f1=0.48  p=0.55  r=0.43\n",
      "154336.0 193178.0\n",
      "N: f1=0.84  p=0.80  r=0.88\n",
      "11485.0 16287.0\n",
      "o: f1=0.48  p=0.71  r=0.36\n",
      "19218.0 31436.0\n",
      "p: f1=0.63  p=0.61  r=0.66\n",
      "Confusion matrix: \n",
      " rows: true labels (the order is the same as in /data/tags.txt) \n",
      " columns: predicted labels (the order is the same as in /data/tags.txt)\n",
      "[[ 10595  11979    301   1754]\n",
      " [  7099 154336   4303   8954]\n",
      " [   814  17826  11485   1510]\n",
      " [   786   9037    198  19218]]\n",
      "204/204 [==============================] - 115s - train loss: 5.3436   \n"
     ]
    },
    {
     "name": "stderr",
     "output_type": "stream",
     "text": [
      "f1 0.57 - p 0.71 - r 0.52\n",
      "Epoch 6 out of 15\n"
     ]
    },
    {
     "name": "stdout",
     "output_type": "stream",
     "text": [
      "7420.0 12097.0\n",
      "i: f1=0.40  p=0.61  r=0.30\n",
      "163751.0 213830.0\n",
      "N: f1=0.84  p=0.77  r=0.94\n",
      "9402.0 12948.0\n",
      "o: f1=0.42  p=0.73  r=0.30\n",
      "15580.0 21320.0\n",
      "p: f1=0.62  p=0.73  r=0.53\n",
      "Confusion matrix: \n",
      " rows: true labels (the order is the same as in /data/tags.txt) \n",
      " columns: predicted labels (the order is the same as in /data/tags.txt)\n",
      "[[  7420  16019    284    906]\n",
      " [  3718 163751   3078   4145]\n",
      " [   328  21216   9402    689]\n",
      " [   631  12844    184  15580]]\n",
      "204/204 [==============================] - 112s - train loss: 4.2903   \n"
     ]
    },
    {
     "name": "stderr",
     "output_type": "stream",
     "text": [
      "f1 0.56 - p 0.71 - r 0.52\n",
      "- early stopping 3 epochs without improvement\n",
      "WARNING: randomly initializing word vectors\n"
     ]
    },
    {
     "name": "stdout",
     "output_type": "stream",
     "text": [
      "8127.0 13266.0\n",
      "i: f1=0.43  p=0.61  r=0.33\n",
      "163897.0 213978.0\n",
      "N: f1=0.84  p=0.77  r=0.94\n",
      "7356.0 9474.0\n",
      "o: f1=0.36  p=0.78  r=0.23\n",
      "16544.0 23477.0\n",
      "p: f1=0.63  p=0.70  r=0.57\n",
      "Confusion matrix: \n",
      " rows: true labels (the order is the same as in /data/tags.txt) \n",
      " columns: predicted labels (the order is the same as in /data/tags.txt)\n",
      "[[  8127  15352    157    993]\n",
      " [  3948 163897   1859   4988]\n",
      " [   508  22819   7356    952]\n",
      " [   683  11910    102  16544]]\n",
      "Config\n"
     ]
    },
    {
     "name": "stderr",
     "output_type": "stream",
     "text": [
      "/home/masha/anaconda3/envs/my_tensorflow/lib/python3.6/site-packages/tensorflow/python/ops/gradients_impl.py:112: UserWarning: Converting sparse IndexedSlices to a dense Tensor of unknown shape. This may consume a large amount of memory.\n",
      "  \"Converting sparse IndexedSlices to a dense Tensor of unknown shape. \"\n",
      "Initializing tf session\n"
     ]
    },
    {
     "name": "stdout",
     "output_type": "stream",
     "text": [
      "Processing_word\n",
      "Building vocab...\n",
      "- done. 31758 tokens\n",
      "Building vocab...\n",
      "- done. 400000 tokens\n",
      "Writing vocab...\n",
      "- done. 19221 tokens\n",
      "Writing vocab...\n",
      "- done. 4 tokens\n",
      "Writing vocab...\n",
      "- done. 87 tokens\n",
      "training\n",
      "hyperparam for the training below: % 30 k 100\n"
     ]
    },
    {
     "name": "stderr",
     "output_type": "stream",
     "text": [
      "Epoch 1 out of 15\n"
     ]
    },
    {
     "name": "stdout",
     "output_type": "stream",
     "text": [
      "613/613 [==============================] - 303s - train loss: 14.3980   \n"
     ]
    },
    {
     "name": "stderr",
     "output_type": "stream",
     "text": [
      "f1 0.60 - p 0.72 - r 0.54\n"
     ]
    },
    {
     "name": "stdout",
     "output_type": "stream",
     "text": [
      "8599.0 13572.0\n",
      "i: f1=0.45  p=0.63  r=0.35\n",
      "162856.0 210028.0\n",
      "N: f1=0.85  p=0.78  r=0.93\n",
      "12390.0 17564.0\n",
      "o: f1=0.50  p=0.71  r=0.39\n",
      "14793.0 19031.0\n",
      "p: f1=0.61  p=0.78  r=0.51\n",
      "Confusion matrix: \n",
      " rows: true labels (the order is the same as in /data/tags.txt) \n",
      " columns: predicted labels (the order is the same as in /data/tags.txt)\n",
      "[[  8599  14903    343    784]\n",
      " [  4085 162856   4687   3064]\n",
      " [   186  18669  12390    390]\n",
      " [   702  13600    144  14793]]\n"
     ]
    },
    {
     "name": "stderr",
     "output_type": "stream",
     "text": [
      "- new best score!\n",
      "Epoch 2 out of 15\n"
     ]
    },
    {
     "name": "stdout",
     "output_type": "stream",
     "text": [
      "613/613 [==============================] - 302s - train loss: 6.7754   \n"
     ]
    },
    {
     "name": "stderr",
     "output_type": "stream",
     "text": [
      "f1 0.62 - p 0.73 - r 0.56\n"
     ]
    },
    {
     "name": "stdout",
     "output_type": "stream",
     "text": [
      "8945.0 13697.0\n",
      "i: f1=0.47  p=0.65  r=0.36\n",
      "163281.0 208636.0\n",
      "N: f1=0.85  p=0.78  r=0.93\n",
      "11798.0 15807.0\n",
      "o: f1=0.50  p=0.75  r=0.37\n",
      "16577.0 22055.0\n",
      "p: f1=0.65  p=0.75  r=0.57\n",
      "Confusion matrix: \n",
      " rows: true labels (the order is the same as in /data/tags.txt) \n",
      " columns: predicted labels (the order is the same as in /data/tags.txt)\n",
      "[[  8945  14270    279   1135]\n",
      " [  3944 163281   3644   3823]\n",
      " [   193  19124  11798    520]\n",
      " [   615  11961     86  16577]]\n"
     ]
    },
    {
     "name": "stderr",
     "output_type": "stream",
     "text": [
      "- new best score!\n",
      "Epoch 3 out of 15\n"
     ]
    },
    {
     "name": "stdout",
     "output_type": "stream",
     "text": [
      "613/613 [==============================] - 296s - train loss: 4.4130   \n"
     ]
    },
    {
     "name": "stderr",
     "output_type": "stream",
     "text": [
      "f1 0.64 - p 0.71 - r 0.59\n"
     ]
    },
    {
     "name": "stdout",
     "output_type": "stream",
     "text": [
      "9443.0 14405.0\n",
      "i: f1=0.48  p=0.66  r=0.38\n",
      "158486.0 198098.0\n",
      "N: f1=0.85  p=0.80  r=0.91\n",
      "14905.0 21757.0\n",
      "o: f1=0.56  p=0.69  r=0.47\n",
      "17936.0 25935.0\n",
      "p: f1=0.65  p=0.69  r=0.61\n",
      "Confusion matrix: \n",
      " rows: true labels (the order is the same as in /data/tags.txt) \n",
      " columns: predicted labels (the order is the same as in /data/tags.txt)\n",
      "[[  9443  13151    430   1605]\n",
      " [  4192 158486   6259   5755]\n",
      " [   251  15840  14905    639]\n",
      " [   519  10621    163  17936]]\n"
     ]
    },
    {
     "name": "stderr",
     "output_type": "stream",
     "text": [
      "- new best score!\n",
      "Epoch 4 out of 15\n"
     ]
    },
    {
     "name": "stdout",
     "output_type": "stream",
     "text": [
      "613/613 [==============================] - 310s - train loss: 3.2112   \n"
     ]
    },
    {
     "name": "stderr",
     "output_type": "stream",
     "text": [
      "f1 0.64 - p 0.73 - r 0.59\n"
     ]
    },
    {
     "name": "stdout",
     "output_type": "stream",
     "text": [
      "9685.0 14807.0\n",
      "i: f1=0.49  p=0.65  r=0.39\n",
      "160323.0 200916.0\n",
      "N: f1=0.85  p=0.80  r=0.92\n",
      "15316.0 21993.0\n",
      "o: f1=0.57  p=0.70  r=0.48\n",
      "17037.0 22479.0\n",
      "p: f1=0.66  p=0.76  r=0.58\n",
      "Confusion matrix: \n",
      " rows: true labels (the order is the same as in /data/tags.txt) \n",
      " columns: predicted labels (the order is the same as in /data/tags.txt)\n",
      "[[  9685  13651    351    942]\n",
      " [  4274 160323   6134   3961]\n",
      " [   231  15549  15316    539]\n",
      " [   617  11393    192  17037]]\n"
     ]
    },
    {
     "name": "stderr",
     "output_type": "stream",
     "text": [
      "- new best score!\n",
      "Epoch 5 out of 15\n"
     ]
    },
    {
     "name": "stdout",
     "output_type": "stream",
     "text": [
      "613/613 [==============================] - 299s - train loss: 2.6147   \n"
     ]
    },
    {
     "name": "stderr",
     "output_type": "stream",
     "text": [
      "f1 0.66 - p 0.71 - r 0.62\n"
     ]
    },
    {
     "name": "stdout",
     "output_type": "stream",
     "text": [
      "11211.0 18151.0\n",
      "i: f1=0.52  p=0.62  r=0.46\n",
      "156979.0 193838.0\n",
      "N: f1=0.85  p=0.81  r=0.90\n",
      "17064.0 25837.0\n",
      "o: f1=0.59  p=0.66  r=0.54\n",
      "16985.0 22369.0\n",
      "p: f1=0.66  p=0.76  r=0.58\n",
      "Confusion matrix: \n",
      " rows: true labels (the order is the same as in /data/tags.txt) \n",
      " columns: predicted labels (the order is the same as in /data/tags.txt)\n",
      "[[ 11211  12058    502    858]\n",
      " [  5674 156979   8026   4013]\n",
      " [   381  13677  17064    513]\n",
      " [   885  11124    245  16985]]\n"
     ]
    },
    {
     "name": "stderr",
     "output_type": "stream",
     "text": [
      "- new best score!\n",
      "Epoch 6 out of 15\n"
     ]
    },
    {
     "name": "stdout",
     "output_type": "stream",
     "text": [
      "613/613 [==============================] - 235s - train loss: 2.0134   \n"
     ]
    },
    {
     "name": "stderr",
     "output_type": "stream",
     "text": [
      "f1 0.66 - p 0.72 - r 0.61\n",
      "Epoch 7 out of 15\n"
     ]
    },
    {
     "name": "stdout",
     "output_type": "stream",
     "text": [
      "11267.0 18223.0\n",
      "i: f1=0.53  p=0.62  r=0.46\n",
      "157653.0 195116.0\n",
      "N: f1=0.85  p=0.81  r=0.90\n",
      "16888.0 25248.0\n",
      "o: f1=0.59  p=0.67  r=0.53\n",
      "16549.0 21608.0\n",
      "p: f1=0.65  p=0.77  r=0.57\n",
      "Confusion matrix: \n",
      " rows: true labels (the order is the same as in /data/tags.txt) \n",
      " columns: predicted labels (the order is the same as in /data/tags.txt)\n",
      "[[ 11267  12061    488    813]\n",
      " [  5733 157653   7550   3756]\n",
      " [   411  13846  16888    490]\n",
      " [   812  11556    322  16549]]\n",
      "613/613 [==============================] - 369s - train loss: 1.6261   \n"
     ]
    },
    {
     "name": "stderr",
     "output_type": "stream",
     "text": [
      "f1 0.65 - p 0.72 - r 0.61\n",
      "Epoch 8 out of 15\n"
     ]
    },
    {
     "name": "stdout",
     "output_type": "stream",
     "text": [
      "10186.0 15283.0\n",
      "i: f1=0.51  p=0.67  r=0.41\n",
      "159039.0 197464.0\n",
      "N: f1=0.85  p=0.81  r=0.91\n",
      "16010.0 23131.0\n",
      "o: f1=0.58  p=0.69  r=0.51\n",
      "17750.0 24317.0\n",
      "p: f1=0.66  p=0.73  r=0.61\n",
      "Confusion matrix: \n",
      " rows: true labels (the order is the same as in /data/tags.txt) \n",
      " columns: predicted labels (the order is the same as in /data/tags.txt)\n",
      "[[ 10186  13014    406   1023]\n",
      " [  4292 159039   6493   4868]\n",
      " [   299  14650  16010    676]\n",
      " [   506  10761    222  17750]]\n",
      "613/613 [==============================] - 316s - train loss: 1.3846   \n"
     ]
    },
    {
     "name": "stderr",
     "output_type": "stream",
     "text": [
      "f1 0.65 - p 0.72 - r 0.61\n",
      "- early stopping 3 epochs without improvement\n",
      "WARNING: randomly initializing word vectors\n"
     ]
    },
    {
     "name": "stdout",
     "output_type": "stream",
     "text": [
      "10840.0 16811.0\n",
      "i: f1=0.52  p=0.64  r=0.44\n",
      "159077.0 197857.0\n",
      "N: f1=0.85  p=0.80  r=0.91\n",
      "16476.0 24245.0\n",
      "o: f1=0.59  p=0.68  r=0.52\n",
      "16271.0 21282.0\n",
      "p: f1=0.64  p=0.76  r=0.56\n",
      "Confusion matrix: \n",
      " rows: true labels (the order is the same as in /data/tags.txt) \n",
      " columns: predicted labels (the order is the same as in /data/tags.txt)\n",
      "[[ 10840  12464    474    851]\n",
      " [  4910 159077   7022   3683]\n",
      " [   381  14301  16476    477]\n",
      " [   680  12015    273  16271]]\n",
      "Config\n"
     ]
    },
    {
     "name": "stderr",
     "output_type": "stream",
     "text": [
      "/home/masha/anaconda3/envs/my_tensorflow/lib/python3.6/site-packages/tensorflow/python/ops/gradients_impl.py:112: UserWarning: Converting sparse IndexedSlices to a dense Tensor of unknown shape. This may consume a large amount of memory.\n",
      "  \"Converting sparse IndexedSlices to a dense Tensor of unknown shape. \"\n",
      "Initializing tf session\n"
     ]
    },
    {
     "name": "stdout",
     "output_type": "stream",
     "text": [
      "Processing_word\n",
      "Building vocab...\n",
      "- done. 36357 tokens\n",
      "Building vocab...\n",
      "- done. 400000 tokens\n",
      "Writing vocab...\n",
      "- done. 21074 tokens\n",
      "Writing vocab...\n",
      "- done. 4 tokens\n",
      "Writing vocab...\n",
      "- done. 88 tokens\n",
      "training\n",
      "hyperparam for the training below: % 50 k 100\n"
     ]
    },
    {
     "name": "stderr",
     "output_type": "stream",
     "text": [
      "Epoch 1 out of 15\n"
     ]
    },
    {
     "name": "stdout",
     "output_type": "stream",
     "text": [
      "1020/1020 [==============================] - 470s - train loss: 10.2458   \n"
     ]
    },
    {
     "name": "stderr",
     "output_type": "stream",
     "text": [
      "f1 0.63 - p 0.70 - r 0.59\n"
     ]
    },
    {
     "name": "stdout",
     "output_type": "stream",
     "text": [
      "10010.0 15887.0\n",
      "i: f1=0.49  p=0.63  r=0.41\n",
      "157407.0 197621.0\n",
      "N: f1=0.85  p=0.80  r=0.90\n",
      "14623.0 21897.0\n",
      "o: f1=0.55  p=0.67  r=0.46\n",
      "17445.0 24790.0\n",
      "p: f1=0.65  p=0.70  r=0.60\n",
      "Confusion matrix: \n",
      " rows: true labels (the order is the same as in /data/tags.txt) \n",
      " columns: predicted labels (the order is the same as in /data/tags.txt)\n",
      "[[ 10010  13010    482   1127]\n",
      " [  5161 157407   6582   5542]\n",
      " [   229  16107  14623    676]\n",
      " [   487  11097    210  17445]]\n"
     ]
    },
    {
     "name": "stderr",
     "output_type": "stream",
     "text": [
      "- new best score!\n",
      "Epoch 2 out of 15\n"
     ]
    },
    {
     "name": "stdout",
     "output_type": "stream",
     "text": [
      "1020/1020 [==============================] - 419s - train loss: 4.4414   \n"
     ]
    },
    {
     "name": "stderr",
     "output_type": "stream",
     "text": [
      "f1 0.64 - p 0.72 - r 0.60\n"
     ]
    },
    {
     "name": "stdout",
     "output_type": "stream",
     "text": [
      "9388.0 13868.0\n",
      "i: f1=0.49  p=0.68  r=0.38\n",
      "158642.0 198245.0\n",
      "N: f1=0.85  p=0.80  r=0.91\n",
      "16509.0 25253.0\n",
      "o: f1=0.58  p=0.65  r=0.52\n",
      "17180.0 22829.0\n",
      "p: f1=0.66  p=0.75  r=0.59\n",
      "Confusion matrix: \n",
      " rows: true labels (the order is the same as in /data/tags.txt) \n",
      " columns: predicted labels (the order is the same as in /data/tags.txt)\n",
      "[[  9388  13849    487    905]\n",
      " [  3822 158642   8073   4155]\n",
      " [   258  14279  16509    589]\n",
      " [   400  11475    184  17180]]\n"
     ]
    },
    {
     "name": "stderr",
     "output_type": "stream",
     "text": [
      "- new best score!\n",
      "Epoch 3 out of 15\n"
     ]
    },
    {
     "name": "stdout",
     "output_type": "stream",
     "text": [
      "1020/1020 [==============================] - 464s - train loss: 2.8545   \n"
     ]
    },
    {
     "name": "stderr",
     "output_type": "stream",
     "text": [
      "f1 0.66 - p 0.71 - r 0.62\n"
     ]
    },
    {
     "name": "stdout",
     "output_type": "stream",
     "text": [
      "11738.0 19040.0\n",
      "i: f1=0.54  p=0.62  r=0.48\n",
      "156620.0 192897.0\n",
      "N: f1=0.85  p=0.81  r=0.90\n",
      "16269.0 24106.0\n",
      "o: f1=0.58  p=0.67  r=0.51\n",
      "17897.0 24152.0\n",
      "p: f1=0.67  p=0.74  r=0.61\n",
      "Confusion matrix: \n",
      " rows: true labels (the order is the same as in /data/tags.txt) \n",
      " columns: predicted labels (the order is the same as in /data/tags.txt)\n",
      "[[ 11738  11514    475    902]\n",
      " [  6181 156620   7185   4706]\n",
      " [   324  14395  16269    647]\n",
      " [   797  10368    177  17897]]\n"
     ]
    },
    {
     "name": "stderr",
     "output_type": "stream",
     "text": [
      "- new best score!\n",
      "Epoch 4 out of 15\n"
     ]
    },
    {
     "name": "stdout",
     "output_type": "stream",
     "text": [
      "1020/1020 [==============================] - 465s - train loss: 2.0796   \n"
     ]
    },
    {
     "name": "stderr",
     "output_type": "stream",
     "text": [
      "f1 0.66 - p 0.72 - r 0.63\n"
     ]
    },
    {
     "name": "stdout",
     "output_type": "stream",
     "text": [
      "12760.0 21559.0\n",
      "i: f1=0.55  p=0.59  r=0.52\n",
      "157036.0 192999.0\n",
      "N: f1=0.85  p=0.81  r=0.90\n",
      "15829.0 22574.0\n",
      "o: f1=0.58  p=0.70  r=0.50\n",
      "17427.0 23063.0\n",
      "p: f1=0.67  p=0.76  r=0.60\n",
      "Confusion matrix: \n",
      " rows: true labels (the order is the same as in /data/tags.txt) \n",
      " columns: predicted labels (the order is the same as in /data/tags.txt)\n",
      "[[ 12760  10735    395    739]\n",
      " [  7182 157036   6202   4272]\n",
      " [   498  14683  15829    625]\n",
      " [  1119  10545    148  17427]]\n"
     ]
    },
    {
     "name": "stderr",
     "output_type": "stream",
     "text": [
      "- new best score!\n",
      "Epoch 5 out of 15\n"
     ]
    },
    {
     "name": "stdout",
     "output_type": "stream",
     "text": [
      "1020/1020 [==============================] - 461s - train loss: 1.6067   \n"
     ]
    },
    {
     "name": "stderr",
     "output_type": "stream",
     "text": [
      "f1 0.67 - p 0.73 - r 0.63\n"
     ]
    },
    {
     "name": "stdout",
     "output_type": "stream",
     "text": [
      "11342.0 17475.0\n",
      "i: f1=0.54  p=0.65  r=0.46\n",
      "158053.0 194663.0\n",
      "N: f1=0.86  p=0.81  r=0.90\n",
      "17653.0 26927.0\n",
      "o: f1=0.60  p=0.66  r=0.56\n",
      "16980.0 21130.0\n",
      "p: f1=0.67  p=0.80  r=0.58\n",
      "Confusion matrix: \n",
      " rows: true labels (the order is the same as in /data/tags.txt) \n",
      " columns: predicted labels (the order is the same as in /data/tags.txt)\n",
      "[[ 11342  12002    624    661]\n",
      " [  5196 158053   8323   3120]\n",
      " [   247  13366  17653    369]\n",
      " [   690  11242    327  16980]]\n"
     ]
    },
    {
     "name": "stderr",
     "output_type": "stream",
     "text": [
      "- new best score!\n",
      "Epoch 6 out of 15\n"
     ]
    },
    {
     "name": "stdout",
     "output_type": "stream",
     "text": [
      "1020/1020 [==============================] - 484s - train loss: 1.3274   \n"
     ]
    },
    {
     "name": "stderr",
     "output_type": "stream",
     "text": [
      "f1 0.67 - p 0.71 - r 0.65\n"
     ]
    },
    {
     "name": "stdout",
     "output_type": "stream",
     "text": [
      "12565.0 21035.0\n",
      "i: f1=0.55  p=0.60  r=0.51\n",
      "153679.0 186584.0\n",
      "N: f1=0.85  p=0.82  r=0.88\n",
      "19067.0 30872.0\n",
      "o: f1=0.61  p=0.62  r=0.60\n",
      "17186.0 21704.0\n",
      "p: f1=0.67  p=0.79  r=0.59\n",
      "Confusion matrix: \n",
      " rows: true labels (the order is the same as in /data/tags.txt) \n",
      " columns: predicted labels (the order is the same as in /data/tags.txt)\n",
      "[[ 12565  10673    726    665]\n",
      " [  6954 153679  10706   3353]\n",
      " [   413  11655  19067    500]\n",
      " [  1103  10577    373  17186]]\n"
     ]
    },
    {
     "name": "stderr",
     "output_type": "stream",
     "text": [
      "- new best score!\n",
      "Epoch 7 out of 15\n"
     ]
    },
    {
     "name": "stdout",
     "output_type": "stream",
     "text": [
      "1020/1020 [==============================] - 459s - train loss: 1.0737   \n"
     ]
    },
    {
     "name": "stderr",
     "output_type": "stream",
     "text": [
      "f1 0.67 - p 0.71 - r 0.64\n",
      "Epoch 8 out of 15\n"
     ]
    },
    {
     "name": "stdout",
     "output_type": "stream",
     "text": [
      "12231.0 19862.0\n",
      "i: f1=0.55  p=0.62  r=0.50\n",
      "154577.0 188115.0\n",
      "N: f1=0.85  p=0.82  r=0.88\n",
      "18097.0 28146.0\n",
      "o: f1=0.61  p=0.64  r=0.57\n",
      "17988.0 24072.0\n",
      "p: f1=0.67  p=0.75  r=0.62\n",
      "Confusion matrix: \n",
      " rows: true labels (the order is the same as in /data/tags.txt) \n",
      " columns: predicted labels (the order is the same as in /data/tags.txt)\n",
      "[[ 12231  10992    560    846]\n",
      " [  6220 154577   9215   4680]\n",
      " [   449  12531  18097    558]\n",
      " [   962  10015    274  17988]]\n",
      "1020/1020 [==============================] - 334s - train loss: 0.9118   \n"
     ]
    },
    {
     "name": "stderr",
     "output_type": "stream",
     "text": [
      "f1 0.67 - p 0.72 - r 0.64\n"
     ]
    },
    {
     "name": "stdout",
     "output_type": "stream",
     "text": [
      "12247.0 19600.0\n",
      "i: f1=0.55  p=0.62  r=0.50\n",
      "156082.0 190305.0\n",
      "N: f1=0.86  p=0.82  r=0.89\n",
      "17372.0 26139.0\n",
      "o: f1=0.60  p=0.66  r=0.55\n",
      "18208.0 24151.0\n",
      "p: f1=0.68  p=0.75  r=0.62\n",
      "Confusion matrix: \n",
      " rows: true labels (the order is the same as in /data/tags.txt) \n",
      " columns: predicted labels (the order is the same as in /data/tags.txt)\n",
      "[[ 12247  10942    537    903]\n",
      " [  6200 156082   7945   4465]\n",
      " [   377  13311  17372    575]\n",
      " [   776   9970    285  18208]]\n"
     ]
    },
    {
     "name": "stderr",
     "output_type": "stream",
     "text": [
      "- new best score!\n",
      "Epoch 9 out of 15\n"
     ]
    },
    {
     "name": "stdout",
     "output_type": "stream",
     "text": [
      "1020/1020 [==============================] - 445s - train loss: 0.7797   \n"
     ]
    },
    {
     "name": "stderr",
     "output_type": "stream",
     "text": [
      "f1 0.67 - p 0.71 - r 0.63\n",
      "Epoch 10 out of 15\n"
     ]
    },
    {
     "name": "stdout",
     "output_type": "stream",
     "text": [
      "11275.0 17486.0\n",
      "i: f1=0.54  p=0.64  r=0.46\n",
      "156578.0 191520.0\n",
      "N: f1=0.86  p=0.82  r=0.90\n",
      "16732.0 24421.0\n",
      "o: f1=0.60  p=0.69  r=0.53\n",
      "18925.0 26768.0\n",
      "p: f1=0.68  p=0.71  r=0.65\n",
      "Confusion matrix: \n",
      " rows: true labels (the order is the same as in /data/tags.txt) \n",
      " columns: predicted labels (the order is the same as in /data/tags.txt)\n",
      "[[ 11275  11648    543   1163]\n",
      " [  5225 156578   6871   6018]\n",
      " [   297  13944  16732    662]\n",
      " [   689   9350    275  18925]]\n",
      "1020/1020 [==============================] - 461s - train loss: 0.7137   \n"
     ]
    },
    {
     "name": "stderr",
     "output_type": "stream",
     "text": [
      "f1 0.67 - p 0.70 - r 0.64\n",
      "Epoch 11 out of 15\n"
     ]
    },
    {
     "name": "stdout",
     "output_type": "stream",
     "text": [
      "12350.0 20278.0\n",
      "i: f1=0.55  p=0.61  r=0.50\n",
      "154742.0 188284.0\n",
      "N: f1=0.85  p=0.82  r=0.89\n",
      "16324.0 23852.0\n",
      "o: f1=0.59  p=0.68  r=0.52\n",
      "19325.0 27781.0\n",
      "p: f1=0.68  p=0.70  r=0.66\n",
      "Confusion matrix: \n",
      " rows: true labels (the order is the same as in /data/tags.txt) \n",
      " columns: predicted labels (the order is the same as in /data/tags.txt)\n",
      "[[ 12350  10669    430   1180]\n",
      " [  6580 154742   6858   6512]\n",
      " [   465  14082  16324    764]\n",
      " [   883   8791    240  19325]]\n",
      "1020/1020 [==============================] - 486s - train loss: 0.6186   \n"
     ]
    },
    {
     "name": "stderr",
     "output_type": "stream",
     "text": [
      "f1 0.67 - p 0.71 - r 0.64\n",
      "- early stopping 3 epochs without improvement\n",
      "WARNING: randomly initializing word vectors\n"
     ]
    },
    {
     "name": "stdout",
     "output_type": "stream",
     "text": [
      "11675.0 18498.0\n",
      "i: f1=0.54  p=0.63  r=0.47\n",
      "155899.0 190122.0\n",
      "N: f1=0.85  p=0.82  r=0.89\n",
      "16468.0 24105.0\n",
      "o: f1=0.59  p=0.68  r=0.52\n",
      "19275.0 27470.0\n",
      "p: f1=0.68  p=0.70  r=0.66\n",
      "Confusion matrix: \n",
      " rows: true labels (the order is the same as in /data/tags.txt) \n",
      " columns: predicted labels (the order is the same as in /data/tags.txt)\n",
      "[[ 11675  11196    486   1272]\n",
      " [  5721 155899   6907   6165]\n",
      " [   371  14038  16468    758]\n",
      " [   731   8989    244  19275]]\n",
      "Config\n"
     ]
    },
    {
     "name": "stderr",
     "output_type": "stream",
     "text": [
      "/home/masha/anaconda3/envs/my_tensorflow/lib/python3.6/site-packages/tensorflow/python/ops/gradients_impl.py:112: UserWarning: Converting sparse IndexedSlices to a dense Tensor of unknown shape. This may consume a large amount of memory.\n",
      "  \"Converting sparse IndexedSlices to a dense Tensor of unknown shape. \"\n",
      "Initializing tf session\n"
     ]
    },
    {
     "name": "stdout",
     "output_type": "stream",
     "text": [
      "Processing_word\n",
      "Building vocab...\n",
      "- done. 23997 tokens\n",
      "Building vocab...\n",
      "- done. 400000 tokens\n",
      "Writing vocab...\n",
      "- done. 15699 tokens\n",
      "Writing vocab...\n",
      "- done. 4 tokens\n",
      "Writing vocab...\n",
      "- done. 85 tokens\n",
      "training\n",
      "hyperparam for the training below: % 10 k 200\n"
     ]
    },
    {
     "name": "stderr",
     "output_type": "stream",
     "text": [
      "Epoch 1 out of 15\n"
     ]
    },
    {
     "name": "stdout",
     "output_type": "stream",
     "text": [
      "205/205 [==============================] - 139s - train loss: 32.2491   \n"
     ]
    },
    {
     "name": "stderr",
     "output_type": "stream",
     "text": [
      "f1 0.47 - p 0.64 - r 0.44\n"
     ]
    },
    {
     "name": "stdout",
     "output_type": "stream",
     "text": [
      "1785.0 2983.0\n",
      "i: f1=0.13  p=0.60  r=0.07\n",
      "162117.0 218457.0\n",
      "N: f1=0.82  p=0.74  r=0.93\n",
      "11124.0 21823.0\n",
      "o: f1=0.42  p=0.51  r=0.35\n",
      "11903.0 16932.0\n",
      "p: f1=0.52  p=0.70  r=0.41\n",
      "Confusion matrix: \n",
      " rows: true labels (the order is the same as in /data/tags.txt) \n",
      " columns: predicted labels (the order is the same as in /data/tags.txt)\n",
      "[[  1785  20387   1500    957]\n",
      " [   842 162117   8284   3449]\n",
      " [   157  19731  11124    623]\n",
      " [   199  16222    915  11903]]\n"
     ]
    },
    {
     "name": "stderr",
     "output_type": "stream",
     "text": [
      "- new best score!\n",
      "Epoch 2 out of 15\n"
     ]
    },
    {
     "name": "stdout",
     "output_type": "stream",
     "text": [
      "205/205 [==============================] - 149s - train loss: 15.9289   \n"
     ]
    },
    {
     "name": "stderr",
     "output_type": "stream",
     "text": [
      "f1 0.56 - p 0.67 - r 0.52\n"
     ]
    },
    {
     "name": "stdout",
     "output_type": "stream",
     "text": [
      "5708.0 9212.0\n",
      "i: f1=0.34  p=0.62  r=0.23\n",
      "159877.0 207450.0\n",
      "N: f1=0.84  p=0.77  r=0.92\n",
      "12499.0 19901.0\n",
      "o: f1=0.49  p=0.63  r=0.40\n",
      "15713.0 23632.0\n",
      "p: f1=0.59  p=0.66  r=0.54\n",
      "Confusion matrix: \n",
      " rows: true labels (the order is the same as in /data/tags.txt) \n",
      " columns: predicted labels (the order is the same as in /data/tags.txt)\n",
      "[[  5708  17113    682   1126]\n",
      " [  2849 159877   6354   5612]\n",
      " [   254  17701  12499   1181]\n",
      " [   401  12759    366  15713]]\n"
     ]
    },
    {
     "name": "stderr",
     "output_type": "stream",
     "text": [
      "- new best score!\n",
      "Epoch 3 out of 15\n"
     ]
    },
    {
     "name": "stdout",
     "output_type": "stream",
     "text": [
      "205/205 [==============================] - 127s - train loss: 10.4016   \n"
     ]
    },
    {
     "name": "stderr",
     "output_type": "stream",
     "text": [
      "f1 0.60 - p 0.68 - r 0.55\n"
     ]
    },
    {
     "name": "stdout",
     "output_type": "stream",
     "text": [
      "9010.0 15530.0\n",
      "i: f1=0.45  p=0.58  r=0.37\n",
      "158418.0 202576.0\n",
      "N: f1=0.84  p=0.78  r=0.91\n",
      "13947.0 22006.0\n",
      "o: f1=0.52  p=0.63  r=0.44\n",
      "14560.0 20083.0\n",
      "p: f1=0.59  p=0.72  r=0.50\n",
      "Confusion matrix: \n",
      " rows: true labels (the order is the same as in /data/tags.txt) \n",
      " columns: predicted labels (the order is the same as in /data/tags.txt)\n",
      "[[  9010  14271    606    742]\n",
      " [  5289 158418   7004   3981]\n",
      " [   575  16313  13947    800]\n",
      " [   656  13574    449  14560]]\n"
     ]
    },
    {
     "name": "stderr",
     "output_type": "stream",
     "text": [
      "- new best score!\n",
      "Epoch 4 out of 15\n"
     ]
    },
    {
     "name": "stdout",
     "output_type": "stream",
     "text": [
      "205/205 [==============================] - 127s - train loss: 7.8579   \n"
     ]
    },
    {
     "name": "stderr",
     "output_type": "stream",
     "text": [
      "f1 0.60 - p 0.70 - r 0.55\n",
      "Epoch 5 out of 15\n"
     ]
    },
    {
     "name": "stdout",
     "output_type": "stream",
     "text": [
      "7762.0 12385.0\n",
      "i: f1=0.42  p=0.63  r=0.32\n",
      "159234.0 203766.0\n",
      "N: f1=0.84  p=0.78  r=0.91\n",
      "15786.0 25642.0\n",
      "o: f1=0.55  p=0.62  r=0.50\n",
      "13937.0 18402.0\n",
      "p: f1=0.59  p=0.76  r=0.48\n",
      "Confusion matrix: \n",
      " rows: true labels (the order is the same as in /data/tags.txt) \n",
      " columns: predicted labels (the order is the same as in /data/tags.txt)\n",
      "[[  7762  15374    788    705]\n",
      " [  3845 159234   8415   3198]\n",
      " [   372  14915  15786    562]\n",
      " [   406  14243    653  13937]]\n",
      "205/205 [==============================] - 127s - train loss: 6.2036   \n"
     ]
    },
    {
     "name": "stderr",
     "output_type": "stream",
     "text": [
      "f1 0.58 - p 0.71 - r 0.53\n",
      "Epoch 6 out of 15\n"
     ]
    },
    {
     "name": "stdout",
     "output_type": "stream",
     "text": [
      "6004.0 8845.0\n",
      "i: f1=0.36  p=0.68  r=0.24\n",
      "159431.0 205803.0\n",
      "N: f1=0.84  p=0.77  r=0.91\n",
      "17465.0 30357.0\n",
      "o: f1=0.56  p=0.58  r=0.55\n",
      "12122.0 15190.0\n",
      "p: f1=0.55  p=0.80  r=0.41\n",
      "Confusion matrix: \n",
      " rows: true labels (the order is the same as in /data/tags.txt) \n",
      " columns: predicted labels (the order is the same as in /data/tags.txt)\n",
      "[[  6004  16939   1140    546]\n",
      " [  2326 159431  10767   2168]\n",
      " [   201  13615  17465    354]\n",
      " [   314  15818    985  12122]]\n",
      "205/205 [==============================] - 128s - train loss: 4.9976   \n"
     ]
    },
    {
     "name": "stderr",
     "output_type": "stream",
     "text": [
      "f1 0.60 - p 0.69 - r 0.56\n",
      "- early stopping 3 epochs without improvement\n",
      "WARNING: randomly initializing word vectors\n"
     ]
    },
    {
     "name": "stdout",
     "output_type": "stream",
     "text": [
      "6469.0 9602.0\n",
      "i: f1=0.38  p=0.67  r=0.26\n",
      "156747.0 198782.0\n",
      "N: f1=0.84  p=0.79  r=0.90\n",
      "18183.0 32071.0\n",
      "o: f1=0.57  p=0.57  r=0.57\n",
      "14586.0 19740.0\n",
      "p: f1=0.60  p=0.74  r=0.50\n",
      "Confusion matrix: \n",
      " rows: true labels (the order is the same as in /data/tags.txt) \n",
      " columns: predicted labels (the order is the same as in /data/tags.txt)\n",
      "[[  6469  16018   1258    884]\n",
      " [  2554 156747  11690   3701]\n",
      " [   265  12618  18183    569]\n",
      " [   314  13399    940  14586]]\n",
      "Config\n"
     ]
    },
    {
     "name": "stderr",
     "output_type": "stream",
     "text": [
      "/home/masha/anaconda3/envs/my_tensorflow/lib/python3.6/site-packages/tensorflow/python/ops/gradients_impl.py:112: UserWarning: Converting sparse IndexedSlices to a dense Tensor of unknown shape. This may consume a large amount of memory.\n",
      "  \"Converting sparse IndexedSlices to a dense Tensor of unknown shape. \"\n",
      "Initializing tf session\n"
     ]
    },
    {
     "name": "stdout",
     "output_type": "stream",
     "text": [
      "Processing_word\n",
      "Building vocab...\n",
      "- done. 31342 tokens\n",
      "Building vocab...\n",
      "- done. 400000 tokens\n",
      "Writing vocab...\n",
      "- done. 18996 tokens\n",
      "Writing vocab...\n",
      "- done. 4 tokens\n",
      "Writing vocab...\n",
      "- done. 87 tokens\n",
      "training\n",
      "hyperparam for the training below: % 30 k 200\n"
     ]
    },
    {
     "name": "stderr",
     "output_type": "stream",
     "text": [
      "Epoch 1 out of 15\n"
     ]
    },
    {
     "name": "stdout",
     "output_type": "stream",
     "text": [
      "612/612 [==============================] - 307s - train loss: 16.1817   \n"
     ]
    },
    {
     "name": "stderr",
     "output_type": "stream",
     "text": [
      "f1 0.54 - p 0.73 - r 0.50\n"
     ]
    },
    {
     "name": "stdout",
     "output_type": "stream",
     "text": [
      "4477.0 6036.0\n",
      "i: f1=0.29  p=0.74  r=0.18\n",
      "164228.0 215031.0\n",
      "N: f1=0.84  p=0.76  r=0.94\n",
      "9050.0 12000.0\n",
      "o: f1=0.41  p=0.75  r=0.29\n",
      "17432.0 27128.0\n",
      "p: f1=0.62  p=0.64  r=0.60\n",
      "Confusion matrix: \n",
      " rows: true labels (the order is the same as in /data/tags.txt) \n",
      " columns: predicted labels (the order is the same as in /data/tags.txt)\n",
      "[[  4477  18034    184   1934]\n",
      " [  1259 164228   2639   6566]\n",
      " [    98  21291   9050   1196]\n",
      " [   202  11478    127  17432]]\n"
     ]
    },
    {
     "name": "stderr",
     "output_type": "stream",
     "text": [
      "- new best score!\n",
      "Epoch 2 out of 15\n"
     ]
    },
    {
     "name": "stdout",
     "output_type": "stream",
     "text": [
      "612/612 [==============================] - 307s - train loss: 7.2588   \n"
     ]
    },
    {
     "name": "stderr",
     "output_type": "stream",
     "text": [
      "f1 0.61 - p 0.71 - r 0.56\n"
     ]
    },
    {
     "name": "stdout",
     "output_type": "stream",
     "text": [
      "7950.0 11496.0\n",
      "i: f1=0.44  p=0.69  r=0.32\n",
      "160009.0 202949.0\n",
      "N: f1=0.85  p=0.79  r=0.92\n",
      "11845.0 16375.0\n",
      "o: f1=0.49  p=0.72  r=0.37\n",
      "18759.0 29375.0\n",
      "p: f1=0.64  p=0.64  r=0.64\n",
      "Confusion matrix: \n",
      " rows: true labels (the order is the same as in /data/tags.txt) \n",
      " columns: predicted labels (the order is the same as in /data/tags.txt)\n",
      "[[  7950  14163    302   2214]\n",
      " [  3087 160009   4053   7543]\n",
      " [   164  18767  11845    859]\n",
      " [   295  10010    175  18759]]\n"
     ]
    },
    {
     "name": "stderr",
     "output_type": "stream",
     "text": [
      "- new best score!\n",
      "Epoch 3 out of 15\n"
     ]
    },
    {
     "name": "stdout",
     "output_type": "stream",
     "text": [
      "612/612 [==============================] - 215s - train loss: 4.7679   \n"
     ]
    },
    {
     "name": "stderr",
     "output_type": "stream",
     "text": [
      "f1 0.63 - p 0.74 - r 0.58\n"
     ]
    },
    {
     "name": "stdout",
     "output_type": "stream",
     "text": [
      "8824.0 12877.0\n",
      "i: f1=0.47  p=0.69  r=0.36\n",
      "162654.0 206044.0\n",
      "N: f1=0.85  p=0.79  r=0.93\n",
      "13333.0 18124.0\n",
      "o: f1=0.54  p=0.74  r=0.42\n",
      "17268.0 23150.0\n",
      "p: f1=0.66  p=0.75  r=0.59\n",
      "Confusion matrix: \n",
      " rows: true labels (the order is the same as in /data/tags.txt) \n",
      " columns: predicted labels (the order is the same as in /data/tags.txt)\n",
      "[[  8824  14395    260   1150]\n",
      " [  3516 162654   4357   4165]\n",
      " [   216  17519  13333    567]\n",
      " [   321  11476    174  17268]]\n"
     ]
    },
    {
     "name": "stderr",
     "output_type": "stream",
     "text": [
      "- new best score!\n",
      "Epoch 4 out of 15\n"
     ]
    },
    {
     "name": "stdout",
     "output_type": "stream",
     "text": [
      "612/612 [==============================] - 282s - train loss: 3.4797   \n"
     ]
    },
    {
     "name": "stderr",
     "output_type": "stream",
     "text": [
      "f1 0.65 - p 0.72 - r 0.60\n"
     ]
    },
    {
     "name": "stdout",
     "output_type": "stream",
     "text": [
      "9582.0 14324.0\n",
      "i: f1=0.49  p=0.67  r=0.39\n",
      "158910.0 198214.0\n",
      "N: f1=0.85  p=0.80  r=0.91\n",
      "16331.0 24310.0\n",
      "o: f1=0.58  p=0.67  r=0.52\n",
      "17180.0 23347.0\n",
      "p: f1=0.65  p=0.74  r=0.59\n",
      "Confusion matrix: \n",
      " rows: true labels (the order is the same as in /data/tags.txt) \n",
      " columns: predicted labels (the order is the same as in /data/tags.txt)\n",
      "[[  9582  13386    492   1169]\n",
      " [  4158 158910   7209   4415]\n",
      " [   206  14515  16331    583]\n",
      " [   378  11403    278  17180]]\n"
     ]
    },
    {
     "name": "stderr",
     "output_type": "stream",
     "text": [
      "- new best score!\n",
      "Epoch 5 out of 15\n"
     ]
    },
    {
     "name": "stdout",
     "output_type": "stream",
     "text": [
      "612/612 [==============================] - 311s - train loss: 2.6811   \n"
     ]
    },
    {
     "name": "stderr",
     "output_type": "stream",
     "text": [
      "f1 0.65 - p 0.72 - r 0.60\n"
     ]
    },
    {
     "name": "stdout",
     "output_type": "stream",
     "text": [
      "10219.0 15921.0\n",
      "i: f1=0.50  p=0.64  r=0.41\n",
      "158947.0 198515.0\n",
      "N: f1=0.85  p=0.80  r=0.91\n",
      "16400.0 24440.0\n",
      "o: f1=0.58  p=0.67  r=0.52\n",
      "16255.0 21319.0\n",
      "p: f1=0.64  p=0.76  r=0.56\n",
      "Confusion matrix: \n",
      " rows: true labels (the order is the same as in /data/tags.txt) \n",
      " columns: predicted labels (the order is the same as in /data/tags.txt)\n",
      "[[ 10219  12821    560   1029]\n",
      " [  4989 158947   7221   3535]\n",
      " [   240  14495  16400    500]\n",
      " [   473  12252    259  16255]]\n"
     ]
    },
    {
     "name": "stderr",
     "output_type": "stream",
     "text": [
      "- new best score!\n",
      "Epoch 6 out of 15\n"
     ]
    },
    {
     "name": "stdout",
     "output_type": "stream",
     "text": [
      "612/612 [==============================] - 312s - train loss: 2.1266   \n"
     ]
    },
    {
     "name": "stderr",
     "output_type": "stream",
     "text": [
      "f1 0.65 - p 0.71 - r 0.62\n"
     ]
    },
    {
     "name": "stdout",
     "output_type": "stream",
     "text": [
      "11814.0 19208.0\n",
      "i: f1=0.54  p=0.62  r=0.48\n",
      "157171.0 194108.0\n",
      "N: f1=0.85  p=0.81  r=0.90\n",
      "13940.0 19421.0\n",
      "o: f1=0.55  p=0.72  r=0.44\n",
      "19021.0 27458.0\n",
      "p: f1=0.67  p=0.69  r=0.65\n",
      "Confusion matrix: \n",
      " rows: true labels (the order is the same as in /data/tags.txt) \n",
      " columns: predicted labels (the order is the same as in /data/tags.txt)\n",
      "[[ 11814  10907    396   1512]\n",
      " [  6437 157171   4888   6196]\n",
      " [   312  16654  13940    729]\n",
      " [   645   9376    197  19021]]\n"
     ]
    },
    {
     "name": "stderr",
     "output_type": "stream",
     "text": [
      "- new best score!\n",
      "Epoch 7 out of 15\n"
     ]
    },
    {
     "name": "stdout",
     "output_type": "stream",
     "text": [
      "612/612 [==============================] - 243s - train loss: 1.7836   \n"
     ]
    },
    {
     "name": "stderr",
     "output_type": "stream",
     "text": [
      "f1 0.65 - p 0.72 - r 0.60\n",
      "Epoch 8 out of 15\n"
     ]
    },
    {
     "name": "stdout",
     "output_type": "stream",
     "text": [
      "11310.0 18564.0\n",
      "i: f1=0.52  p=0.61  r=0.46\n",
      "159090.0 198272.0\n",
      "N: f1=0.85  p=0.80  r=0.91\n",
      "14603.0 20393.0\n",
      "o: f1=0.56  p=0.72  r=0.46\n",
      "17002.0 22966.0\n",
      "p: f1=0.65  p=0.74  r=0.58\n",
      "Confusion matrix: \n",
      " rows: true labels (the order is the same as in /data/tags.txt) \n",
      " columns: predicted labels (the order is the same as in /data/tags.txt)\n",
      "[[ 11310  11737    429   1153]\n",
      " [  6197 159090   5154   4251]\n",
      " [   361  16111  14603    560]\n",
      " [   696  11334    207  17002]]\n",
      "612/612 [==============================] - 244s - train loss: 1.4793   \n"
     ]
    },
    {
     "name": "stderr",
     "output_type": "stream",
     "text": [
      "f1 0.66 - p 0.70 - r 0.63\n"
     ]
    },
    {
     "name": "stdout",
     "output_type": "stream",
     "text": [
      "11469.0 18989.0\n",
      "i: f1=0.53  p=0.60  r=0.47\n",
      "154951.0 190103.0\n",
      "N: f1=0.85  p=0.82  r=0.89\n",
      "16652.0 25300.0\n",
      "o: f1=0.58  p=0.66  r=0.53\n",
      "18188.0 25803.0\n",
      "p: f1=0.66  p=0.70  r=0.62\n",
      "Confusion matrix: \n",
      " rows: true labels (the order is the same as in /data/tags.txt) \n",
      " columns: predicted labels (the order is the same as in /data/tags.txt)\n",
      "[[ 11469  11256    588   1316]\n",
      " [  6406 154951   7723   5612]\n",
      " [   365  13931  16652    687]\n",
      " [   749   9965    337  18188]]\n"
     ]
    },
    {
     "name": "stderr",
     "output_type": "stream",
     "text": [
      "- new best score!\n",
      "Epoch 9 out of 15\n"
     ]
    },
    {
     "name": "stdout",
     "output_type": "stream",
     "text": [
      "612/612 [==============================] - 305s - train loss: 1.2594   \n"
     ]
    },
    {
     "name": "stderr",
     "output_type": "stream",
     "text": [
      "f1 0.66 - p 0.69 - r 0.64\n"
     ]
    },
    {
     "name": "stdout",
     "output_type": "stream",
     "text": [
      "12095.0 20030.0\n",
      "i: f1=0.54  p=0.60  r=0.49\n",
      "153635.0 187050.0\n",
      "N: f1=0.85  p=0.82  r=0.88\n",
      "16119.0 23701.0\n",
      "o: f1=0.58  p=0.68  r=0.51\n",
      "19570.0 29414.0\n",
      "p: f1=0.67  p=0.67  r=0.67\n",
      "Confusion matrix: \n",
      " rows: true labels (the order is the same as in /data/tags.txt) \n",
      " columns: predicted labels (the order is the same as in /data/tags.txt)\n",
      "[[ 12095  10430    489   1615]\n",
      " [  6822 153635   6855   7380]\n",
      " [   425  14242  16119    849]\n",
      " [   688   8743    238  19570]]\n"
     ]
    },
    {
     "name": "stderr",
     "output_type": "stream",
     "text": [
      "- new best score!\n",
      "Epoch 10 out of 15\n"
     ]
    },
    {
     "name": "stdout",
     "output_type": "stream",
     "text": [
      "612/612 [==============================] - 306s - train loss: 1.0930   \n"
     ]
    },
    {
     "name": "stderr",
     "output_type": "stream",
     "text": [
      "f1 0.66 - p 0.70 - r 0.63\n",
      "Epoch 11 out of 15\n"
     ]
    },
    {
     "name": "stdout",
     "output_type": "stream",
     "text": [
      "11711.0 19387.0\n",
      "i: f1=0.53  p=0.60  r=0.48\n",
      "155075.0 190000.0\n",
      "N: f1=0.85  p=0.82  r=0.89\n",
      "16196.0 24037.0\n",
      "o: f1=0.58  p=0.67  r=0.51\n",
      "18705.0 26771.0\n",
      "p: f1=0.67  p=0.70  r=0.64\n",
      "Confusion matrix: \n",
      " rows: true labels (the order is the same as in /data/tags.txt) \n",
      " columns: predicted labels (the order is the same as in /data/tags.txt)\n",
      "[[ 11711  11075    584   1259]\n",
      " [  6481 155075   7004   6132]\n",
      " [   413  14351  16196    675]\n",
      " [   782   9499    253  18705]]\n",
      "612/612 [==============================] - 308s - train loss: 0.9664   \n"
     ]
    },
    {
     "name": "stderr",
     "output_type": "stream",
     "text": [
      "f1 0.66 - p 0.70 - r 0.64\n"
     ]
    },
    {
     "name": "stdout",
     "output_type": "stream",
     "text": [
      "11181.0 17658.0\n",
      "i: f1=0.53  p=0.63  r=0.45\n",
      "154091.0 187475.0\n",
      "N: f1=0.85  p=0.82  r=0.88\n",
      "17306.0 26286.0\n",
      "o: f1=0.60  p=0.66  r=0.55\n",
      "19396.0 28776.0\n",
      "p: f1=0.67  p=0.67  r=0.66\n",
      "Confusion matrix: \n",
      " rows: true labels (the order is the same as in /data/tags.txt) \n",
      " columns: predicted labels (the order is the same as in /data/tags.txt)\n",
      "[[ 11181  11307    637   1504]\n",
      " [  5522 154091   8013   7066]\n",
      " [   405  13114  17306    810]\n",
      " [   550   8963    330  19396]]\n"
     ]
    },
    {
     "name": "stderr",
     "output_type": "stream",
     "text": [
      "- new best score!\n",
      "Epoch 12 out of 15\n"
     ]
    },
    {
     "name": "stdout",
     "output_type": "stream",
     "text": [
      "612/612 [==============================] - 307s - train loss: 0.8529   \n"
     ]
    },
    {
     "name": "stderr",
     "output_type": "stream",
     "text": [
      "f1 0.66 - p 0.70 - r 0.64\n"
     ]
    },
    {
     "name": "stdout",
     "output_type": "stream",
     "text": [
      "11579.0 18450.0\n",
      "i: f1=0.54  p=0.63  r=0.47\n",
      "154782.0 188448.0\n",
      "N: f1=0.85  p=0.82  r=0.89\n",
      "17437.0 26926.0\n",
      "o: f1=0.60  p=0.65  r=0.55\n",
      "18605.0 26371.0\n",
      "p: f1=0.67  p=0.71  r=0.64\n",
      "Confusion matrix: \n",
      " rows: true labels (the order is the same as in /data/tags.txt) \n",
      " columns: predicted labels (the order is the same as in /data/tags.txt)\n",
      "[[ 11579  11080    702   1268]\n",
      " [  5768 154782   8382   5760]\n",
      " [   456  13004  17437    738]\n",
      " [   647   9582    405  18605]]\n"
     ]
    },
    {
     "name": "stderr",
     "output_type": "stream",
     "text": [
      "- new best score!\n",
      "Epoch 13 out of 15\n"
     ]
    },
    {
     "name": "stdout",
     "output_type": "stream",
     "text": [
      "612/612 [==============================] - 308s - train loss: 0.7511   \n"
     ]
    },
    {
     "name": "stderr",
     "output_type": "stream",
     "text": [
      "f1 0.66 - p 0.71 - r 0.63\n",
      "Epoch 14 out of 15\n"
     ]
    },
    {
     "name": "stdout",
     "output_type": "stream",
     "text": [
      "11162.0 17554.0\n",
      "i: f1=0.53  p=0.64  r=0.45\n",
      "156019.0 191037.0\n",
      "N: f1=0.85  p=0.82  r=0.89\n",
      "17472.0 26712.0\n",
      "o: f1=0.60  p=0.65  r=0.55\n",
      "18025.0 24892.0\n",
      "p: f1=0.67  p=0.72  r=0.62\n",
      "Confusion matrix: \n",
      " rows: true labels (the order is the same as in /data/tags.txt) \n",
      " columns: predicted labels (the order is the same as in /data/tags.txt)\n",
      "[[ 11162  11506    715   1246]\n",
      " [  5509 156019   8156   5008]\n",
      " [   375  13175  17472    613]\n",
      " [   508  10337    369  18025]]\n",
      "612/612 [==============================] - 306s - train loss: 0.6729   \n"
     ]
    },
    {
     "name": "stderr",
     "output_type": "stream",
     "text": [
      "f1 0.66 - p 0.70 - r 0.64\n",
      "Epoch 15 out of 15\n"
     ]
    },
    {
     "name": "stdout",
     "output_type": "stream",
     "text": [
      "11106.0 17367.0\n",
      "i: f1=0.53  p=0.64  r=0.45\n",
      "154004.0 187082.0\n",
      "N: f1=0.85  p=0.82  r=0.88\n",
      "17533.0 26840.0\n",
      "o: f1=0.60  p=0.65  r=0.55\n",
      "19492.0 28906.0\n",
      "p: f1=0.67  p=0.67  r=0.67\n",
      "Confusion matrix: \n",
      " rows: true labels (the order is the same as in /data/tags.txt) \n",
      " columns: predicted labels (the order is the same as in /data/tags.txt)\n",
      "[[ 11106  11206    709   1608]\n",
      " [  5440 154004   8223   7025]\n",
      " [   340  12981  17533    781]\n",
      " [   481   8891    375  19492]]\n",
      "612/612 [==============================] - 322s - train loss: 0.6105   \n"
     ]
    },
    {
     "name": "stderr",
     "output_type": "stream",
     "text": [
      "f1 0.66 - p 0.70 - r 0.64\n"
     ]
    },
    {
     "name": "stdout",
     "output_type": "stream",
     "text": [
      "11391.0 18141.0\n",
      "i: f1=0.53  p=0.63  r=0.46\n",
      "153797.0 186780.0\n",
      "N: f1=0.85  p=0.82  r=0.88\n",
      "17973.0 27982.0\n",
      "o: f1=0.60  p=0.64  r=0.57\n",
      "18973.0 27292.0\n",
      "p: f1=0.67  p=0.70  r=0.65\n",
      "Confusion matrix: \n",
      " rows: true labels (the order is the same as in /data/tags.txt) \n",
      " columns: predicted labels (the order is the same as in /data/tags.txt)\n",
      "[[ 11391  11105    749   1384]\n",
      " [  5807 153797   8817   6271]\n",
      " [   380  12618  17973    664]\n",
      " [   563   9260    443  18973]]\n"
     ]
    },
    {
     "name": "stderr",
     "output_type": "stream",
     "text": [
      "- new best score!\n",
      "WARNING: randomly initializing word vectors\n"
     ]
    },
    {
     "name": "stdout",
     "output_type": "stream",
     "text": [
      "Config\n"
     ]
    },
    {
     "name": "stderr",
     "output_type": "stream",
     "text": [
      "/home/masha/anaconda3/envs/my_tensorflow/lib/python3.6/site-packages/tensorflow/python/ops/gradients_impl.py:112: UserWarning: Converting sparse IndexedSlices to a dense Tensor of unknown shape. This may consume a large amount of memory.\n",
      "  \"Converting sparse IndexedSlices to a dense Tensor of unknown shape. \"\n",
      "Initializing tf session\n"
     ]
    },
    {
     "name": "stdout",
     "output_type": "stream",
     "text": [
      "Processing_word\n",
      "Building vocab...\n",
      "- done. 36105 tokens\n",
      "Building vocab...\n",
      "- done. 400000 tokens\n",
      "Writing vocab...\n",
      "- done. 20961 tokens\n",
      "Writing vocab...\n",
      "- done. 4 tokens\n",
      "Writing vocab...\n",
      "- done. 88 tokens\n",
      "training\n",
      "hyperparam for the training below: % 50 k 200\n"
     ]
    },
    {
     "name": "stderr",
     "output_type": "stream",
     "text": [
      "Epoch 1 out of 15\n"
     ]
    },
    {
     "name": "stdout",
     "output_type": "stream",
     "text": [
      "1021/1021 [==============================] - 393s - train loss: 14.6299   \n"
     ]
    },
    {
     "name": "stderr",
     "output_type": "stream",
     "text": [
      "f1 0.64 - p 0.66 - r 0.64\n"
     ]
    },
    {
     "name": "stdout",
     "output_type": "stream",
     "text": [
      "13214.0 25271.0\n",
      "i: f1=0.53  p=0.52  r=0.54\n",
      "147356.0 178552.0\n",
      "N: f1=0.83  p=0.83  r=0.84\n",
      "14497.0 21362.0\n",
      "o: f1=0.55  p=0.68  r=0.46\n",
      "20777.0 35010.0\n",
      "p: f1=0.65  p=0.59  r=0.71\n",
      "Confusion matrix: \n",
      " rows: true labels (the order is the same as in /data/tags.txt) \n",
      " columns: predicted labels (the order is the same as in /data/tags.txt)\n",
      "[[ 13214   9188    350   1877]\n",
      " [ 10051 147356   6323  10962]\n",
      " [  1016  14728  14497   1394]\n",
      " [   990   7280    192  20777]]\n"
     ]
    },
    {
     "name": "stderr",
     "output_type": "stream",
     "text": [
      "- new best score!\n",
      "Epoch 2 out of 15\n"
     ]
    },
    {
     "name": "stdout",
     "output_type": "stream",
     "text": [
      "1021/1021 [==============================] - 499s - train loss: 5.8695   \n"
     ]
    },
    {
     "name": "stderr",
     "output_type": "stream",
     "text": [
      "f1 0.65 - p 0.69 - r 0.62\n"
     ]
    },
    {
     "name": "stdout",
     "output_type": "stream",
     "text": [
      "11470.0 19558.0\n",
      "i: f1=0.52  p=0.59  r=0.47\n",
      "153585.0 188385.0\n",
      "N: f1=0.85  p=0.82  r=0.88\n",
      "14828.0 21288.0\n",
      "o: f1=0.56  p=0.70  r=0.47\n",
      "19953.0 30964.0\n",
      "p: f1=0.66  p=0.64  r=0.68\n",
      "Confusion matrix: \n",
      " rows: true labels (the order is the same as in /data/tags.txt) \n",
      " columns: predicted labels (the order is the same as in /data/tags.txt)\n",
      "[[ 11470  11016    340   1803]\n",
      " [  6897 153585   5934   8276]\n",
      " [   492  15383  14828    932]\n",
      " [   699   8401    186  19953]]\n"
     ]
    },
    {
     "name": "stderr",
     "output_type": "stream",
     "text": [
      "- new best score!\n",
      "Epoch 3 out of 15\n"
     ]
    },
    {
     "name": "stdout",
     "output_type": "stream",
     "text": [
      "1021/1021 [==============================] - 475s - train loss: 3.5806   \n"
     ]
    },
    {
     "name": "stderr",
     "output_type": "stream",
     "text": [
      "f1 0.65 - p 0.72 - r 0.61\n"
     ]
    },
    {
     "name": "stdout",
     "output_type": "stream",
     "text": [
      "13024.0 22904.0\n",
      "i: f1=0.55  p=0.57  r=0.53\n",
      "157736.0 196480.0\n",
      "N: f1=0.85  p=0.80  r=0.90\n",
      "15653.0 22965.0\n",
      "o: f1=0.57  p=0.68  r=0.49\n",
      "14574.0 17846.0\n",
      "p: f1=0.62  p=0.82  r=0.50\n",
      "Confusion matrix: \n",
      " rows: true labels (the order is the same as in /data/tags.txt) \n",
      " columns: predicted labels (the order is the same as in /data/tags.txt)\n",
      "[[ 13024  10711    404    490]\n",
      " [  7945 157736   6638   2373]\n",
      " [   684  14889  15653    409]\n",
      " [  1251  13144    270  14574]]\n"
     ]
    },
    {
     "name": "stderr",
     "output_type": "stream",
     "text": [
      "- new best score!\n",
      "Epoch 4 out of 15\n"
     ]
    },
    {
     "name": "stdout",
     "output_type": "stream",
     "text": [
      "1021/1021 [==============================] - 476s - train loss: 2.5509   \n"
     ]
    },
    {
     "name": "stderr",
     "output_type": "stream",
     "text": [
      "f1 0.64 - p 0.74 - r 0.59\n",
      "Epoch 5 out of 15\n"
     ]
    },
    {
     "name": "stdout",
     "output_type": "stream",
     "text": [
      "9082.0 13209.0\n",
      "i: f1=0.48  p=0.69  r=0.37\n",
      "160247.0 200811.0\n",
      "N: f1=0.85  p=0.80  r=0.92\n",
      "17528.0 26507.0\n",
      "o: f1=0.60  p=0.66  r=0.55\n",
      "15713.0 19668.0\n",
      "p: f1=0.64  p=0.80  r=0.54\n",
      "Confusion matrix: \n",
      " rows: true labels (the order is the same as in /data/tags.txt) \n",
      " columns: predicted labels (the order is the same as in /data/tags.txt)\n",
      "[[  9082  14282    552    713]\n",
      " [  3486 160247   8116   2843]\n",
      " [   186  13522  17528    399]\n",
      " [   455  12760    311  15713]]\n",
      "1021/1021 [==============================] - 475s - train loss: 1.9103   \n"
     ]
    },
    {
     "name": "stderr",
     "output_type": "stream",
     "text": [
      "f1 0.66 - p 0.72 - r 0.62\n"
     ]
    },
    {
     "name": "stdout",
     "output_type": "stream",
     "text": [
      "9594.0 14048.0\n",
      "i: f1=0.50  p=0.68  r=0.39\n",
      "157531.0 194198.0\n",
      "N: f1=0.85  p=0.81  r=0.90\n",
      "18264.0 28567.0\n",
      "o: f1=0.61  p=0.64  r=0.58\n",
      "17575.0 23382.0\n",
      "p: f1=0.67  p=0.75  r=0.60\n",
      "Confusion matrix: \n",
      " rows: true labels (the order is the same as in /data/tags.txt) \n",
      " columns: predicted labels (the order is the same as in /data/tags.txt)\n",
      "[[  9594  13239    639   1157]\n",
      " [  3795 157531   9203   4163]\n",
      " [   242  12642  18264    487]\n",
      " [   417  10786    461  17575]]\n"
     ]
    },
    {
     "name": "stderr",
     "output_type": "stream",
     "text": [
      "- new best score!\n",
      "Epoch 6 out of 15\n"
     ]
    },
    {
     "name": "stdout",
     "output_type": "stream",
     "text": [
      "1021/1021 [==============================] - 475s - train loss: 1.5283   \n"
     ]
    },
    {
     "name": "stderr",
     "output_type": "stream",
     "text": [
      "f1 0.67 - p 0.71 - r 0.63\n"
     ]
    },
    {
     "name": "stdout",
     "output_type": "stream",
     "text": [
      "11276.0 17833.0\n",
      "i: f1=0.53  p=0.63  r=0.46\n",
      "156841.0 191603.0\n",
      "N: f1=0.86  p=0.82  r=0.90\n",
      "17051.0 25089.0\n",
      "o: f1=0.60  p=0.68  r=0.54\n",
      "18685.0 25670.0\n",
      "p: f1=0.68  p=0.73  r=0.64\n",
      "Confusion matrix: \n",
      " rows: true labels (the order is the same as in /data/tags.txt) \n",
      " columns: predicted labels (the order is the same as in /data/tags.txt)\n",
      "[[ 11276  11501    538   1314]\n",
      " [  5636 156841   7208   5007]\n",
      " [   302  13618  17051    664]\n",
      " [   619   9643    292  18685]]\n"
     ]
    },
    {
     "name": "stderr",
     "output_type": "stream",
     "text": [
      "- new best score!\n",
      "Epoch 7 out of 15\n"
     ]
    },
    {
     "name": "stdout",
     "output_type": "stream",
     "text": [
      "1021/1021 [==============================] - 473s - train loss: 1.3287   \n"
     ]
    },
    {
     "name": "stderr",
     "output_type": "stream",
     "text": [
      "f1 0.67 - p 0.70 - r 0.65\n"
     ]
    },
    {
     "name": "stdout",
     "output_type": "stream",
     "text": [
      "14020.0 25470.0\n",
      "i: f1=0.56  p=0.55  r=0.57\n",
      "153760.0 186500.0\n",
      "N: f1=0.85  p=0.82  r=0.88\n",
      "15057.0 20834.0\n",
      "o: f1=0.57  p=0.72  r=0.48\n",
      "19436.0 27391.0\n",
      "p: f1=0.69  p=0.71  r=0.66\n",
      "Confusion matrix: \n",
      " rows: true labels (the order is the same as in /data/tags.txt) \n",
      " columns: predicted labels (the order is the same as in /data/tags.txt)\n",
      "[[ 14020   9071    394   1144]\n",
      " [  9604 153760   5215   6113]\n",
      " [   619  15261  15057    698]\n",
      " [  1227   8408    168  19436]]\n"
     ]
    },
    {
     "name": "stderr",
     "output_type": "stream",
     "text": [
      "- new best score!\n",
      "Epoch 8 out of 15\n"
     ]
    },
    {
     "name": "stdout",
     "output_type": "stream",
     "text": [
      "1021/1021 [==============================] - 474s - train loss: 1.1004   \n"
     ]
    },
    {
     "name": "stderr",
     "output_type": "stream",
     "text": [
      "f1 0.65 - p 0.70 - r 0.63\n",
      "Epoch 9 out of 15\n"
     ]
    },
    {
     "name": "stdout",
     "output_type": "stream",
     "text": [
      "11992.0 19697.0\n",
      "i: f1=0.54  p=0.61  r=0.49\n",
      "155268.0 190243.0\n",
      "N: f1=0.85  p=0.82  r=0.89\n",
      "13901.0 18620.0\n",
      "o: f1=0.55  p=0.75  r=0.44\n",
      "20448.0 31635.0\n",
      "p: f1=0.67  p=0.65  r=0.70\n",
      "Confusion matrix: \n",
      " rows: true labels (the order is the same as in /data/tags.txt) \n",
      " columns: predicted labels (the order is the same as in /data/tags.txt)\n",
      "[[ 11992  10534    318   1785]\n",
      " [  6657 155268   4272   8495]\n",
      " [   391  16436  13901    907]\n",
      " [   657   8005    129  20448]]\n",
      "1021/1021 [==============================] - 286s - train loss: 0.9153   \n"
     ]
    },
    {
     "name": "stderr",
     "output_type": "stream",
     "text": [
      "f1 0.66 - p 0.71 - r 0.63\n",
      "Epoch 10 out of 15\n"
     ]
    },
    {
     "name": "stdout",
     "output_type": "stream",
     "text": [
      "12143.0 20059.0\n",
      "i: f1=0.54  p=0.61  r=0.49\n",
      "156156.0 191391.0\n",
      "N: f1=0.85  p=0.82  r=0.89\n",
      "14893.0 20755.0\n",
      "o: f1=0.57  p=0.72  r=0.47\n",
      "19454.0 27990.0\n",
      "p: f1=0.68  p=0.70  r=0.67\n",
      "Confusion matrix: \n",
      " rows: true labels (the order is the same as in /data/tags.txt) \n",
      " columns: predicted labels (the order is the same as in /data/tags.txt)\n",
      "[[ 12143  10703    404   1379]\n",
      " [  6763 156156   5283   6490]\n",
      " [   429  15646  14893    667]\n",
      " [   724   8886    175  19454]]\n",
      "1021/1021 [==============================] - 256s - train loss: 0.7825   \n"
     ]
    },
    {
     "name": "stderr",
     "output_type": "stream",
     "text": [
      "f1 0.67 - p 0.70 - r 0.65\n",
      "- early stopping 3 epochs without improvement\n",
      "WARNING: randomly initializing word vectors\n"
     ]
    },
    {
     "name": "stdout",
     "output_type": "stream",
     "text": [
      "13238.0 22884.0\n",
      "i: f1=0.56  p=0.58  r=0.54\n",
      "153191.0 185591.0\n",
      "N: f1=0.85  p=0.83  r=0.88\n",
      "15899.0 22785.0\n",
      "o: f1=0.58  p=0.70  r=0.50\n",
      "19710.0 28935.0\n",
      "p: f1=0.68  p=0.68  r=0.67\n",
      "Confusion matrix: \n",
      " rows: true labels (the order is the same as in /data/tags.txt) \n",
      " columns: predicted labels (the order is the same as in /data/tags.txt)\n",
      "[[ 13238   9604    445   1342]\n",
      " [  8178 153191   6228   7095]\n",
      " [   521  14427  15899    788]\n",
      " [   947   8369    213  19710]]\n",
      "Config\n"
     ]
    },
    {
     "name": "stderr",
     "output_type": "stream",
     "text": [
      "/home/masha/anaconda3/envs/my_tensorflow/lib/python3.6/site-packages/tensorflow/python/ops/gradients_impl.py:112: UserWarning: Converting sparse IndexedSlices to a dense Tensor of unknown shape. This may consume a large amount of memory.\n",
      "  \"Converting sparse IndexedSlices to a dense Tensor of unknown shape. \"\n",
      "Initializing tf session\n"
     ]
    }
   ],
   "source": [
    "#tuning of two hyperparameters: \n",
    "#k - number of clusters for kMeans\n",
    "#percentage - % of the cluster to be used as training data \n",
    "\n",
    "k_list = [10,100,200]\n",
    "percentage_list = [10,30,50]\n",
    "\n",
    "\n",
    "for k in k_list:\n",
    "    for percentage in percentage_list:\n",
    "        #create the training dataset based on kMeans clusters and prediction confidence\n",
    "        sentences_for_training = []\n",
    "        kmeans = KMeans(n_clusters=k, random_state=0).fit(X)\n",
    "        labels = kmeans.predict(X)\n",
    "        sent_cluster_dict = {}\n",
    "        for i in range(len(X)):\n",
    "            sent_cluster_dict[' '.join(sent_list[i])] = labels[i]\n",
    "        cluster_sent_dict = {}\n",
    "        for key, value in sorted(sent_cluster_dict.items()):\n",
    "            cluster_sent_dict.setdefault(value, []).append(key)\n",
    "        \n",
    "        for key in cluster_sent_dict:\n",
    "            conf_dict = {}\n",
    "            for sent in cluster_sent_dict[key]:\n",
    "                if len(sent) > 0:\n",
    "                    conf_dict[sent] = sent_label_conf_pos_from_folds[sent][-1]['confidence']\n",
    "            number_of_sent = round(float(len(cluster_sent_dict[key])) * float(percentage) / 100.0)\n",
    "            if number_of_sent == 0:\n",
    "                number_of_sent = 1 #have a minimum of 1 sent per cluster           \n",
    "            training_sent_list = sorted(conf_dict.items(), key=lambda x:-x[1])[:number_of_sent]\n",
    "            for sentence in training_sent_list:\n",
    "                sentences_for_training.append(sentence[0])\n",
    "\n",
    "        #make conll-like data based on the training data created above\n",
    "        fout = open('kMeans_data/train_k=%s_percentage=%s.txt' %(k, percentage), 'w')\n",
    "        for sentence in sentences_for_training:\n",
    "            words = sentence.split(\" \")\n",
    "            pos = sent_label_conf_pos_from_folds[sentence][1]['pos_tags']\n",
    "            labels = sent_label_conf_pos_from_folds[sentence][0]['labels']\n",
    "            #print(words, len(words))\n",
    "            #print(pos, len(pos))\n",
    "            #print(labels, len(labels)) \n",
    "            #print('\\n')\n",
    "            for i in range(len(words)):\n",
    "                fout.write('%s %s %s\\n' %(words[i], pos[i], labels[i]))\n",
    "            fout.write('\\n')\n",
    "        \n",
    "        \n",
    "        \n",
    "        #build support data and train and evaluate using the created datset\n",
    "        processing_word = get_processing_word(lowercase=True)\n",
    "        print('Processing_word')\n",
    "        train = CoNLLDataset('kMeans_data/train_k=%s_percentage=%s.txt' %(k, percentage), processing_word)\n",
    "        dev   = CoNLLDataset('kMeans_data/dev.txt', processing_word)\n",
    "        #test  = CoNLLDataset('kMeans_data/dev.txt', processing_word)\n",
    "\n",
    "        vocab_words, vocab_tags = get_vocabs([train, dev])\n",
    "        vocab_glove = get_glove_vocab(config.filename_glove)\n",
    "        vocab = vocab_words & vocab_glove\n",
    "        vocab.add(UNK)\n",
    "        vocab.add(NUM)\n",
    "\n",
    "        # Save vocab\n",
    "        write_vocab(vocab, config.filename_words)\n",
    "        write_vocab(vocab_tags, config.filename_tags)\n",
    "\n",
    "        # Trim GloVe Vectors\n",
    "        vocab = load_vocab(config.filename_words)\n",
    "        export_trimmed_glove_vectors(vocab, config.filename_glove,\n",
    "                                    config.filename_trimmed, config.dim_word)\n",
    "\n",
    "        #Build and save char vocab\n",
    "        train = CoNLLDataset('kMeans_data/train_k=%s_percentage=%s.txt' %(k, percentage))\n",
    "        vocab_chars = get_char_vocab(train)\n",
    "        write_vocab(vocab_chars, config.filename_chars)\n",
    "        \n",
    "        #training\n",
    "       # config = Config(load=True)\n",
    "        \n",
    "        \n",
    "\n",
    "        dev   = CoNLLDataset('kMeans_data/dev.txt', config.processing_word,\n",
    "                         config.processing_tag, config.max_iter)\n",
    "        train = CoNLLDataset('kMeans_data/train_k=%s_percentage=%s.txt' %(k, percentage), config.processing_word,\n",
    "                         config.processing_tag, config.max_iter)\n",
    "        # train model\n",
    "        print('training')\n",
    "        print(\"hyperparam for the training below: %\", percentage, \"k\", k)\n",
    "        model.train(train, dev)\n",
    "        \n",
    "        tf.reset_default_graph()\n",
    "        config = Config()\n",
    "        print('Config')    \n",
    "        model = NERModel(config)\n",
    "        model.build()\n",
    "        \n",
    "    \n",
    "        "
   ]
  },
  {
   "cell_type": "code",
   "execution_count": null,
   "metadata": {},
   "outputs": [],
   "source": []
  },
  {
   "cell_type": "code",
   "execution_count": null,
   "metadata": {},
   "outputs": [],
   "source": []
  },
  {
   "cell_type": "code",
   "execution_count": null,
   "metadata": {},
   "outputs": [],
   "source": []
  }
 ],
 "metadata": {
  "kernelspec": {
   "display_name": "Python 3",
   "language": "python",
   "name": "python3"
  },
  "language_info": {
   "codemirror_mode": {
    "name": "ipython",
    "version": 3
   },
   "file_extension": ".py",
   "mimetype": "text/x-python",
   "name": "python",
   "nbconvert_exporter": "python",
   "pygments_lexer": "ipython3",
   "version": "3.6.6"
  }
 },
 "nbformat": 4,
 "nbformat_minor": 2
}
